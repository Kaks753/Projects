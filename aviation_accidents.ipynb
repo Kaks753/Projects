{
 "cells": [
  {
   "cell_type": "markdown",
   "id": "75558932",
   "metadata": {},
   "source": [
    "## Phase 1 Project "
   ]
  },
  {
   "cell_type": "markdown",
   "id": "976ae4f0",
   "metadata": {},
   "source": [
    "# Aircraft Risk Analysis Project\n",
    "\n",
    "## Overview\n",
    "The company is expanding into aviation and wants to identify which aircraft models present the **lowest risk**.  \n",
    "Our **main objective** is to generate **three data-backed business recommendations** on aircraft safety.\n",
    "\n",
    "We will support this by breaking down into **specific objectives**:\n",
    "\n",
    "1. Understand the dataset structure and assess missing data.\n",
    "2. Clean and prepare the dataset (column renaming, handling nulls, deriving new features).\n",
    "3. Explore accident frequency across aircraft makes and models.\n",
    "4. Assess accident severity (fatalities per accident).\n",
    "5. Analyze temporal and geographic patterns.\n",
    "6. Produce three clear recommendations backed by visualizations."
   ]
  },
  {
   "cell_type": "markdown",
   "id": "adf01154",
   "metadata": {},
   "source": [
    "**Business Understanding**\n",
    "\n",
    "- **Main objective:** Recommend the lowest-risk aircraft for acquisition.\n",
    "- **Key business questions:**\n",
    "  1. Which aircraft makes/models have relatively fewer accidents?\n",
    "  2. Which aircraft have lower severity (fewer fatalities when accidents occur)?\n",
    "  3. Are there patterns over time or geography that affect operational risk?"
   ]
  },
  {
   "cell_type": "markdown",
   "id": "f67e6a8f",
   "metadata": {},
   "source": [
    "Loading the dataset using Pandas"
   ]
  },
  {
   "cell_type": "code",
   "execution_count": 33,
   "id": "7a0093a8",
   "metadata": {},
   "outputs": [],
   "source": [
    "import pandas as pd\n",
    "aviation_accidents = pd.read_csv(\"aviation-accident-data-2023-05-16.csv\")"
   ]
  },
  {
   "cell_type": "markdown",
   "id": "fe0b9955",
   "metadata": {},
   "source": [
    "Dataset info : shows how the data is structured; rows, colums, and their data types. \n",
    "\n",
    "Also shows non-null values.\n",
    "\n",
    "The dataset contains 23,967 rows, and 9 columns\n",
    "\n",
    "It has a number of null entries"
   ]
  },
  {
   "cell_type": "code",
   "execution_count": 34,
   "id": "114e044b",
   "metadata": {},
   "outputs": [
    {
     "name": "stdout",
     "output_type": "stream",
     "text": [
      "<class 'pandas.core.frame.DataFrame'>\n",
      "RangeIndex: 23967 entries, 0 to 23966\n",
      "Data columns (total 9 columns):\n",
      " #   Column        Non-Null Count  Dtype \n",
      "---  ------        --------------  ----- \n",
      " 0   date          23967 non-null  object\n",
      " 1   type          23967 non-null  object\n",
      " 2   registration  22419 non-null  object\n",
      " 3   operator      23963 non-null  object\n",
      " 4   fatalities    20029 non-null  object\n",
      " 5   location      23019 non-null  object\n",
      " 6   country       23967 non-null  object\n",
      " 7   cat           23967 non-null  object\n",
      " 8   year          23967 non-null  object\n",
      "dtypes: object(9)\n",
      "memory usage: 1.6+ MB\n"
     ]
    }
   ],
   "source": [
    "aviation_accidents.info()"
   ]
  },
  {
   "cell_type": "code",
   "execution_count": 35,
   "id": "df45aee9",
   "metadata": {},
   "outputs": [
    {
     "data": {
      "text/plain": [
       "(23967, 9)"
      ]
     },
     "execution_count": 35,
     "metadata": {},
     "output_type": "execute_result"
    }
   ],
   "source": [
    "aviation_accidents.shape # number of rows and columns in the dataset"
   ]
  },
  {
   "cell_type": "code",
   "execution_count": 36,
   "id": "90062c23",
   "metadata": {},
   "outputs": [
    {
     "data": {
      "text/plain": [
       "Index(['date', 'type', 'registration', 'operator', 'fatalities', 'location',\n",
       "       'country', 'cat', 'year'],\n",
       "      dtype='object')"
      ]
     },
     "execution_count": 36,
     "metadata": {},
     "output_type": "execute_result"
    }
   ],
   "source": [
    "aviation_accidents.columns # column names in the dataset"
   ]
  },
  {
   "cell_type": "markdown",
   "id": "55cc6665",
   "metadata": {},
   "source": [
    "A brief look at the first five rows of the dataset"
   ]
  },
  {
   "cell_type": "code",
   "execution_count": 37,
   "id": "8f086ccf",
   "metadata": {},
   "outputs": [
    {
     "data": {
      "text/html": [
       "<div>\n",
       "<style scoped>\n",
       "    .dataframe tbody tr th:only-of-type {\n",
       "        vertical-align: middle;\n",
       "    }\n",
       "\n",
       "    .dataframe tbody tr th {\n",
       "        vertical-align: top;\n",
       "    }\n",
       "\n",
       "    .dataframe thead th {\n",
       "        text-align: right;\n",
       "    }\n",
       "</style>\n",
       "<table border=\"1\" class=\"dataframe\">\n",
       "  <thead>\n",
       "    <tr style=\"text-align: right;\">\n",
       "      <th></th>\n",
       "      <th>date</th>\n",
       "      <th>type</th>\n",
       "      <th>registration</th>\n",
       "      <th>operator</th>\n",
       "      <th>fatalities</th>\n",
       "      <th>location</th>\n",
       "      <th>country</th>\n",
       "      <th>cat</th>\n",
       "      <th>year</th>\n",
       "    </tr>\n",
       "  </thead>\n",
       "  <tbody>\n",
       "    <tr>\n",
       "      <th>0</th>\n",
       "      <td>date unk.</td>\n",
       "      <td>Antonov An-12B</td>\n",
       "      <td>T-1206</td>\n",
       "      <td>Indonesian AF</td>\n",
       "      <td>NaN</td>\n",
       "      <td>NaN</td>\n",
       "      <td>Unknown country</td>\n",
       "      <td>U1</td>\n",
       "      <td>unknown</td>\n",
       "    </tr>\n",
       "    <tr>\n",
       "      <th>1</th>\n",
       "      <td>date unk.</td>\n",
       "      <td>Antonov An-12B</td>\n",
       "      <td>T-1204</td>\n",
       "      <td>Indonesian AF</td>\n",
       "      <td>NaN</td>\n",
       "      <td>NaN</td>\n",
       "      <td>Unknown country</td>\n",
       "      <td>U1</td>\n",
       "      <td>unknown</td>\n",
       "    </tr>\n",
       "    <tr>\n",
       "      <th>2</th>\n",
       "      <td>date unk.</td>\n",
       "      <td>Antonov An-12B</td>\n",
       "      <td>T-1201</td>\n",
       "      <td>Indonesian AF</td>\n",
       "      <td>NaN</td>\n",
       "      <td>NaN</td>\n",
       "      <td>Unknown country</td>\n",
       "      <td>U1</td>\n",
       "      <td>unknown</td>\n",
       "    </tr>\n",
       "    <tr>\n",
       "      <th>3</th>\n",
       "      <td>date unk.</td>\n",
       "      <td>Antonov An-12BK</td>\n",
       "      <td>NaN</td>\n",
       "      <td>Soviet AF</td>\n",
       "      <td>NaN</td>\n",
       "      <td>Tiksi Airport (IKS)</td>\n",
       "      <td>Russia</td>\n",
       "      <td>A1</td>\n",
       "      <td>unknown</td>\n",
       "    </tr>\n",
       "    <tr>\n",
       "      <th>4</th>\n",
       "      <td>date unk.</td>\n",
       "      <td>Antonov An-12BP</td>\n",
       "      <td>CCCP-11815</td>\n",
       "      <td>Soviet AF</td>\n",
       "      <td>0</td>\n",
       "      <td>Massawa Airport ...</td>\n",
       "      <td>Eritrea</td>\n",
       "      <td>A1</td>\n",
       "      <td>unknown</td>\n",
       "    </tr>\n",
       "  </tbody>\n",
       "</table>\n",
       "</div>"
      ],
      "text/plain": [
       "        date             type registration       operator fatalities  \\\n",
       "0  date unk.   Antonov An-12B       T-1206  Indonesian AF        NaN   \n",
       "1  date unk.   Antonov An-12B       T-1204  Indonesian AF        NaN   \n",
       "2  date unk.   Antonov An-12B       T-1201  Indonesian AF        NaN   \n",
       "3  date unk.  Antonov An-12BK          NaN      Soviet AF        NaN   \n",
       "4  date unk.  Antonov An-12BP   CCCP-11815      Soviet AF          0   \n",
       "\n",
       "              location          country cat     year  \n",
       "0                  NaN  Unknown country  U1  unknown  \n",
       "1                  NaN  Unknown country  U1  unknown  \n",
       "2                  NaN  Unknown country  U1  unknown  \n",
       "3  Tiksi Airport (IKS)           Russia  A1  unknown  \n",
       "4  Massawa Airport ...          Eritrea  A1  unknown  "
      ]
     },
     "execution_count": 37,
     "metadata": {},
     "output_type": "execute_result"
    }
   ],
   "source": [
    "aviation_accidents.head()"
   ]
  },
  {
   "cell_type": "markdown",
   "id": "590213ad",
   "metadata": {},
   "source": [
    "A look at the last 8 entries in the dataset"
   ]
  },
  {
   "cell_type": "code",
   "execution_count": 38,
   "id": "3ca94d48",
   "metadata": {},
   "outputs": [
    {
     "data": {
      "text/html": [
       "<div>\n",
       "<style scoped>\n",
       "    .dataframe tbody tr th:only-of-type {\n",
       "        vertical-align: middle;\n",
       "    }\n",
       "\n",
       "    .dataframe tbody tr th {\n",
       "        vertical-align: top;\n",
       "    }\n",
       "\n",
       "    .dataframe thead th {\n",
       "        text-align: right;\n",
       "    }\n",
       "</style>\n",
       "<table border=\"1\" class=\"dataframe\">\n",
       "  <thead>\n",
       "    <tr style=\"text-align: right;\">\n",
       "      <th></th>\n",
       "      <th>date</th>\n",
       "      <th>type</th>\n",
       "      <th>registration</th>\n",
       "      <th>operator</th>\n",
       "      <th>fatalities</th>\n",
       "      <th>location</th>\n",
       "      <th>country</th>\n",
       "      <th>cat</th>\n",
       "      <th>year</th>\n",
       "    </tr>\n",
       "  </thead>\n",
       "  <tbody>\n",
       "    <tr>\n",
       "      <th>23959</th>\n",
       "      <td>26-APR-2023</td>\n",
       "      <td>Boeing 777-233LR</td>\n",
       "      <td>C-FIUF</td>\n",
       "      <td>Air Canada</td>\n",
       "      <td>0</td>\n",
       "      <td>Sydney-Kingsford...</td>\n",
       "      <td>Australia</td>\n",
       "      <td>A2</td>\n",
       "      <td>2023</td>\n",
       "    </tr>\n",
       "    <tr>\n",
       "      <th>23960</th>\n",
       "      <td>09-MAY-2023</td>\n",
       "      <td>Cessna 208 Caravan 675</td>\n",
       "      <td>PK-HVG</td>\n",
       "      <td>Dimonim Air</td>\n",
       "      <td>0</td>\n",
       "      <td>Yabi Airstrip</td>\n",
       "      <td>Indonesia</td>\n",
       "      <td>A2</td>\n",
       "      <td>2023</td>\n",
       "    </tr>\n",
       "    <tr>\n",
       "      <th>23961</th>\n",
       "      <td>10-MAY-2023</td>\n",
       "      <td>Learjet 36A</td>\n",
       "      <td>N56PA</td>\n",
       "      <td>Phoenix Air</td>\n",
       "      <td>3</td>\n",
       "      <td>near San Clemente Isl...</td>\n",
       "      <td>USA</td>\n",
       "      <td>A1</td>\n",
       "      <td>2023</td>\n",
       "    </tr>\n",
       "    <tr>\n",
       "      <th>23962</th>\n",
       "      <td>11-MAY-2023</td>\n",
       "      <td>Hawker 900XP</td>\n",
       "      <td>PK-LRU</td>\n",
       "      <td>Angkasa Super Services</td>\n",
       "      <td>0</td>\n",
       "      <td>Maleo Airport (MOH)</td>\n",
       "      <td>Indonesia</td>\n",
       "      <td>A2</td>\n",
       "      <td>2023</td>\n",
       "    </tr>\n",
       "    <tr>\n",
       "      <th>23963</th>\n",
       "      <td>11-MAY-2023</td>\n",
       "      <td>Cessna 208B Grand Caravan</td>\n",
       "      <td>PK-NGA</td>\n",
       "      <td>Nasional Global Aviasi</td>\n",
       "      <td>0</td>\n",
       "      <td>Fentheik Airstrip</td>\n",
       "      <td>Indonesia</td>\n",
       "      <td>A2</td>\n",
       "      <td>2023</td>\n",
       "    </tr>\n",
       "    <tr>\n",
       "      <th>23964</th>\n",
       "      <td>12-MAY-2023</td>\n",
       "      <td>Cessna 208B Grand Caravan</td>\n",
       "      <td>5X-RBR</td>\n",
       "      <td>Bar Aviation</td>\n",
       "      <td>0</td>\n",
       "      <td>Kampala-Kajjansi...</td>\n",
       "      <td>Uganda</td>\n",
       "      <td>A1</td>\n",
       "      <td>2023</td>\n",
       "    </tr>\n",
       "    <tr>\n",
       "      <th>23965</th>\n",
       "      <td>14-MAY-2023</td>\n",
       "      <td>Boeing 747-4R7F</td>\n",
       "      <td>LX-OCV</td>\n",
       "      <td>Cargolux</td>\n",
       "      <td>0</td>\n",
       "      <td>Luxembourg-Finde...</td>\n",
       "      <td>Luxembourg</td>\n",
       "      <td>A2</td>\n",
       "      <td>2023</td>\n",
       "    </tr>\n",
       "    <tr>\n",
       "      <th>23966</th>\n",
       "      <td>15-MAY-2023</td>\n",
       "      <td>Learjet 35A</td>\n",
       "      <td>D-CGFQ</td>\n",
       "      <td>GFD</td>\n",
       "      <td>2</td>\n",
       "      <td>Hohn Air Base</td>\n",
       "      <td>Germany</td>\n",
       "      <td>A1</td>\n",
       "      <td>2023</td>\n",
       "    </tr>\n",
       "  </tbody>\n",
       "</table>\n",
       "</div>"
      ],
      "text/plain": [
       "              date                       type registration  \\\n",
       "23959  26-APR-2023           Boeing 777-233LR       C-FIUF   \n",
       "23960  09-MAY-2023     Cessna 208 Caravan 675       PK-HVG   \n",
       "23961  10-MAY-2023                Learjet 36A        N56PA   \n",
       "23962  11-MAY-2023               Hawker 900XP       PK-LRU   \n",
       "23963  11-MAY-2023  Cessna 208B Grand Caravan       PK-NGA   \n",
       "23964  12-MAY-2023  Cessna 208B Grand Caravan       5X-RBR   \n",
       "23965  14-MAY-2023            Boeing 747-4R7F       LX-OCV   \n",
       "23966  15-MAY-2023                Learjet 35A       D-CGFQ   \n",
       "\n",
       "                     operator fatalities                  location  \\\n",
       "23959              Air Canada          0       Sydney-Kingsford...   \n",
       "23960             Dimonim Air          0             Yabi Airstrip   \n",
       "23961             Phoenix Air          3  near San Clemente Isl...   \n",
       "23962  Angkasa Super Services          0       Maleo Airport (MOH)   \n",
       "23963  Nasional Global Aviasi          0         Fentheik Airstrip   \n",
       "23964            Bar Aviation          0       Kampala-Kajjansi...   \n",
       "23965                Cargolux          0       Luxembourg-Finde...   \n",
       "23966                     GFD          2             Hohn Air Base   \n",
       "\n",
       "          country cat  year  \n",
       "23959   Australia  A2  2023  \n",
       "23960   Indonesia  A2  2023  \n",
       "23961         USA  A1  2023  \n",
       "23962   Indonesia  A2  2023  \n",
       "23963   Indonesia  A2  2023  \n",
       "23964      Uganda  A1  2023  \n",
       "23965  Luxembourg  A2  2023  \n",
       "23966     Germany  A1  2023  "
      ]
     },
     "execution_count": 38,
     "metadata": {},
     "output_type": "execute_result"
    }
   ],
   "source": [
    "aviation_accidents.tail(8)"
   ]
  },
  {
   "cell_type": "markdown",
   "id": "54e2923f",
   "metadata": {},
   "source": [
    "A summary of the dataset's stats for better understanding"
   ]
  },
  {
   "cell_type": "code",
   "execution_count": 39,
   "id": "9996e625",
   "metadata": {},
   "outputs": [
    {
     "data": {
      "text/html": [
       "<div>\n",
       "<style scoped>\n",
       "    .dataframe tbody tr th:only-of-type {\n",
       "        vertical-align: middle;\n",
       "    }\n",
       "\n",
       "    .dataframe tbody tr th {\n",
       "        vertical-align: top;\n",
       "    }\n",
       "\n",
       "    .dataframe thead th {\n",
       "        text-align: right;\n",
       "    }\n",
       "</style>\n",
       "<table border=\"1\" class=\"dataframe\">\n",
       "  <thead>\n",
       "    <tr style=\"text-align: right;\">\n",
       "      <th></th>\n",
       "      <th>date</th>\n",
       "      <th>type</th>\n",
       "      <th>registration</th>\n",
       "      <th>operator</th>\n",
       "      <th>fatalities</th>\n",
       "      <th>location</th>\n",
       "      <th>country</th>\n",
       "      <th>cat</th>\n",
       "      <th>year</th>\n",
       "    </tr>\n",
       "  </thead>\n",
       "  <tbody>\n",
       "    <tr>\n",
       "      <th>count</th>\n",
       "      <td>23967</td>\n",
       "      <td>23967</td>\n",
       "      <td>22419</td>\n",
       "      <td>23963</td>\n",
       "      <td>20029</td>\n",
       "      <td>23019</td>\n",
       "      <td>23967</td>\n",
       "      <td>23967</td>\n",
       "      <td>23967</td>\n",
       "    </tr>\n",
       "    <tr>\n",
       "      <th>unique</th>\n",
       "      <td>15079</td>\n",
       "      <td>3201</td>\n",
       "      <td>21962</td>\n",
       "      <td>6017</td>\n",
       "      <td>369</td>\n",
       "      <td>14608</td>\n",
       "      <td>232</td>\n",
       "      <td>11</td>\n",
       "      <td>106</td>\n",
       "    </tr>\n",
       "    <tr>\n",
       "      <th>top</th>\n",
       "      <td>10-MAY-1940</td>\n",
       "      <td>Douglas C-47A (DC-3)</td>\n",
       "      <td>LZ-...</td>\n",
       "      <td>USAAF</td>\n",
       "      <td>0</td>\n",
       "      <td>unknown</td>\n",
       "      <td>USA</td>\n",
       "      <td>A1</td>\n",
       "      <td>1944</td>\n",
       "    </tr>\n",
       "    <tr>\n",
       "      <th>freq</th>\n",
       "      <td>171</td>\n",
       "      <td>1916</td>\n",
       "      <td>13</td>\n",
       "      <td>2604</td>\n",
       "      <td>10713</td>\n",
       "      <td>272</td>\n",
       "      <td>4377</td>\n",
       "      <td>17424</td>\n",
       "      <td>1505</td>\n",
       "    </tr>\n",
       "  </tbody>\n",
       "</table>\n",
       "</div>"
      ],
      "text/plain": [
       "               date                  type registration operator fatalities  \\\n",
       "count         23967                 23967        22419    23963      20029   \n",
       "unique        15079                  3201        21962     6017        369   \n",
       "top     10-MAY-1940  Douglas C-47A (DC-3)       LZ-...    USAAF          0   \n",
       "freq            171                  1916           13     2604      10713   \n",
       "\n",
       "       location country    cat   year  \n",
       "count     23019   23967  23967  23967  \n",
       "unique    14608     232     11    106  \n",
       "top     unknown     USA     A1   1944  \n",
       "freq        272    4377  17424   1505  "
      ]
     },
     "execution_count": 39,
     "metadata": {},
     "output_type": "execute_result"
    }
   ],
   "source": [
    "aviation_accidents.describe()"
   ]
  },
  {
   "cell_type": "markdown",
   "id": "43bfc4b9",
   "metadata": {},
   "source": [
    "This step -unlike using the describe()- gives summary statistics for both numeric and categorical columns.\n",
    "\n",
    "Will help us understand ranges, most frequent values, and distributions.\n"
   ]
  },
  {
   "cell_type": "code",
   "execution_count": 40,
   "id": "9e21d747",
   "metadata": {},
   "outputs": [
    {
     "data": {
      "text/html": [
       "<div>\n",
       "<style scoped>\n",
       "    .dataframe tbody tr th:only-of-type {\n",
       "        vertical-align: middle;\n",
       "    }\n",
       "\n",
       "    .dataframe tbody tr th {\n",
       "        vertical-align: top;\n",
       "    }\n",
       "\n",
       "    .dataframe thead th {\n",
       "        text-align: right;\n",
       "    }\n",
       "</style>\n",
       "<table border=\"1\" class=\"dataframe\">\n",
       "  <thead>\n",
       "    <tr style=\"text-align: right;\">\n",
       "      <th></th>\n",
       "      <th>count</th>\n",
       "      <th>unique</th>\n",
       "      <th>top</th>\n",
       "      <th>freq</th>\n",
       "    </tr>\n",
       "  </thead>\n",
       "  <tbody>\n",
       "    <tr>\n",
       "      <th>date</th>\n",
       "      <td>23967</td>\n",
       "      <td>15079</td>\n",
       "      <td>10-MAY-1940</td>\n",
       "      <td>171</td>\n",
       "    </tr>\n",
       "    <tr>\n",
       "      <th>type</th>\n",
       "      <td>23967</td>\n",
       "      <td>3201</td>\n",
       "      <td>Douglas C-47A (DC-3)</td>\n",
       "      <td>1916</td>\n",
       "    </tr>\n",
       "    <tr>\n",
       "      <th>registration</th>\n",
       "      <td>22419</td>\n",
       "      <td>21962</td>\n",
       "      <td>LZ-...</td>\n",
       "      <td>13</td>\n",
       "    </tr>\n",
       "    <tr>\n",
       "      <th>operator</th>\n",
       "      <td>23963</td>\n",
       "      <td>6017</td>\n",
       "      <td>USAAF</td>\n",
       "      <td>2604</td>\n",
       "    </tr>\n",
       "    <tr>\n",
       "      <th>fatalities</th>\n",
       "      <td>20029</td>\n",
       "      <td>369</td>\n",
       "      <td>0</td>\n",
       "      <td>10713</td>\n",
       "    </tr>\n",
       "    <tr>\n",
       "      <th>location</th>\n",
       "      <td>23019</td>\n",
       "      <td>14608</td>\n",
       "      <td>unknown</td>\n",
       "      <td>272</td>\n",
       "    </tr>\n",
       "    <tr>\n",
       "      <th>country</th>\n",
       "      <td>23967</td>\n",
       "      <td>232</td>\n",
       "      <td>USA</td>\n",
       "      <td>4377</td>\n",
       "    </tr>\n",
       "    <tr>\n",
       "      <th>cat</th>\n",
       "      <td>23967</td>\n",
       "      <td>11</td>\n",
       "      <td>A1</td>\n",
       "      <td>17424</td>\n",
       "    </tr>\n",
       "    <tr>\n",
       "      <th>year</th>\n",
       "      <td>23967</td>\n",
       "      <td>106</td>\n",
       "      <td>1944</td>\n",
       "      <td>1505</td>\n",
       "    </tr>\n",
       "  </tbody>\n",
       "</table>\n",
       "</div>"
      ],
      "text/plain": [
       "              count unique                   top   freq\n",
       "date          23967  15079           10-MAY-1940    171\n",
       "type          23967   3201  Douglas C-47A (DC-3)   1916\n",
       "registration  22419  21962                LZ-...     13\n",
       "operator      23963   6017                 USAAF   2604\n",
       "fatalities    20029    369                     0  10713\n",
       "location      23019  14608               unknown    272\n",
       "country       23967    232                   USA   4377\n",
       "cat           23967     11                    A1  17424\n",
       "year          23967    106                  1944   1505"
      ]
     },
     "execution_count": 40,
     "metadata": {},
     "output_type": "execute_result"
    }
   ],
   "source": [
    "# Descriptive statistics\n",
    "aviation_accidents.describe(include=\"all\").T\n"
   ]
  },
  {
   "cell_type": "markdown",
   "id": "aa35fe17",
   "metadata": {},
   "source": [
    "## Data cleaning\n",
    "\n",
    "Dealing with data types conversions and missing values"
   ]
  },
  {
   "cell_type": "markdown",
   "id": "9f2acd50",
   "metadata": {},
   "source": [
    "## Missing values\n",
    "\n",
    "Checking and dealing with missing values in the dataset"
   ]
  },
  {
   "cell_type": "markdown",
   "id": "a658672e",
   "metadata": {},
   "source": [
    "Checking number of missing values per column in the dataset"
   ]
  },
  {
   "cell_type": "code",
   "execution_count": null,
   "id": "01a4da34",
   "metadata": {},
   "outputs": [
    {
     "data": {
      "text/plain": [
       "date               0\n",
       "type               0\n",
       "registration    1548\n",
       "operator           4\n",
       "fatalities      3938\n",
       "location         948\n",
       "country            0\n",
       "cat                0\n",
       "year               0\n",
       "dtype: int64"
      ]
     },
     "execution_count": 42,
     "metadata": {},
     "output_type": "execute_result"
    }
   ],
   "source": [
    "aviation_accidents.isna().sum() \n",
    "\n",
    "# there are missing values in registration,fatalities, and location columns that have to be fixed"
   ]
  },
  {
   "cell_type": "markdown",
   "id": "00f40f4d",
   "metadata": {},
   "source": [
    "Using dropna to fix the nulls\n",
    "\n",
    "Dropna is used here since droping the missing values leaves us with 77.83% of the data which is worth using"
   ]
  },
  {
   "cell_type": "code",
   "execution_count": 43,
   "id": "b28507c7",
   "metadata": {},
   "outputs": [],
   "source": [
    "aviation_accidents_clean = aviation_accidents.dropna()\n",
    "\n",
    "# assigned the cleaned dataset to a new variable to preserve the original dataset"
   ]
  },
  {
   "cell_type": "markdown",
   "id": "0fdc9df7",
   "metadata": {},
   "source": [
    "Quick look at the new dataset shape"
   ]
  },
  {
   "cell_type": "code",
   "execution_count": 44,
   "id": "a49e703e",
   "metadata": {},
   "outputs": [
    {
     "data": {
      "text/plain": [
       "(18643, 9)"
      ]
     },
     "execution_count": 44,
     "metadata": {},
     "output_type": "execute_result"
    }
   ],
   "source": [
    "aviation_accidents_clean.shape\n",
    "\n",
    "# 5324 columns with missing values droped\n"
   ]
  },
  {
   "cell_type": "markdown",
   "id": "f0a3bc14",
   "metadata": {},
   "source": [
    "Checking on duplicates in the new dataset"
   ]
  },
  {
   "cell_type": "code",
   "execution_count": 45,
   "id": "5bb2fafa",
   "metadata": {},
   "outputs": [
    {
     "data": {
      "text/plain": [
       "False    18642\n",
       "True         1\n",
       "Name: count, dtype: int64"
      ]
     },
     "execution_count": 45,
     "metadata": {},
     "output_type": "execute_result"
    }
   ],
   "source": [
    "aviation_accidents_clean.duplicated().value_counts()\n",
    "\n",
    "# only 1 duplicate found"
   ]
  },
  {
   "cell_type": "markdown",
   "id": "915e70fd",
   "metadata": {},
   "source": [
    "Eliminating the duplicate"
   ]
  },
  {
   "cell_type": "code",
   "execution_count": 46,
   "id": "ee92788e",
   "metadata": {},
   "outputs": [],
   "source": [
    "aviation_accidents_clean = aviation_accidents_clean.drop_duplicates()"
   ]
  },
  {
   "cell_type": "code",
   "execution_count": null,
   "id": "10f285f5",
   "metadata": {},
   "outputs": [
    {
     "data": {
      "text/plain": [
       "False    18642\n",
       "Name: count, dtype: int64"
      ]
     },
     "execution_count": 47,
     "metadata": {},
     "output_type": "execute_result"
    }
   ],
   "source": [
    "aviation_accidents_clean.duplicated().value_counts()\n",
    "\n",
    "# duplicate eliminated. "
   ]
  },
  {
   "cell_type": "markdown",
   "id": "52c7c361",
   "metadata": {},
   "source": [
    "Data conversion"
   ]
  },
  {
   "cell_type": "code",
   "execution_count": 49,
   "id": "40918505",
   "metadata": {},
   "outputs": [
    {
     "name": "stderr",
     "output_type": "stream",
     "text": [
      "C:\\Users\\PC\\AppData\\Local\\Temp\\ipykernel_15120\\3956638754.py:1: UserWarning: Could not infer format, so each element will be parsed individually, falling back to `dateutil`. To ensure parsing is consistent and as-expected, please specify a format.\n",
      "  aviation_accidents_clean[\"date\"] = pd.to_datetime(aviation_accidents_clean[\"date\"])\n"
     ]
    },
    {
     "ename": "DateParseError",
     "evalue": "Unknown datetime string format, unable to parse: date unk., at position 0",
     "output_type": "error",
     "traceback": [
      "\u001b[31m---------------------------------------------------------------------------\u001b[39m",
      "\u001b[31mDateParseError\u001b[39m                            Traceback (most recent call last)",
      "\u001b[36mCell\u001b[39m\u001b[36m \u001b[39m\u001b[32mIn[49]\u001b[39m\u001b[32m, line 1\u001b[39m\n\u001b[32m----> \u001b[39m\u001b[32m1\u001b[39m aviation_accidents_clean[\u001b[33m\"\u001b[39m\u001b[33mdate\u001b[39m\u001b[33m\"\u001b[39m] = \u001b[43mpd\u001b[49m\u001b[43m.\u001b[49m\u001b[43mto_datetime\u001b[49m\u001b[43m(\u001b[49m\u001b[43maviation_accidents_clean\u001b[49m\u001b[43m[\u001b[49m\u001b[33;43m\"\u001b[39;49m\u001b[33;43mdate\u001b[39;49m\u001b[33;43m\"\u001b[39;49m\u001b[43m]\u001b[49m\u001b[43m)\u001b[49m\n",
      "\u001b[36mFile \u001b[39m\u001b[32mc:\\Users\\PC\\anaconda3\\envs\\myenv\\Lib\\site-packages\\pandas\\core\\tools\\datetimes.py:1072\u001b[39m, in \u001b[36mto_datetime\u001b[39m\u001b[34m(arg, errors, dayfirst, yearfirst, utc, format, exact, unit, infer_datetime_format, origin, cache)\u001b[39m\n\u001b[32m   1070\u001b[39m         result = arg.map(cache_array)\n\u001b[32m   1071\u001b[39m     \u001b[38;5;28;01melse\u001b[39;00m:\n\u001b[32m-> \u001b[39m\u001b[32m1072\u001b[39m         values = \u001b[43mconvert_listlike\u001b[49m\u001b[43m(\u001b[49m\u001b[43marg\u001b[49m\u001b[43m.\u001b[49m\u001b[43m_values\u001b[49m\u001b[43m,\u001b[49m\u001b[43m \u001b[49m\u001b[38;5;28;43mformat\u001b[39;49m\u001b[43m)\u001b[49m\n\u001b[32m   1073\u001b[39m         result = arg._constructor(values, index=arg.index, name=arg.name)\n\u001b[32m   1074\u001b[39m \u001b[38;5;28;01melif\u001b[39;00m \u001b[38;5;28misinstance\u001b[39m(arg, (ABCDataFrame, abc.MutableMapping)):\n",
      "\u001b[36mFile \u001b[39m\u001b[32mc:\\Users\\PC\\anaconda3\\envs\\myenv\\Lib\\site-packages\\pandas\\core\\tools\\datetimes.py:437\u001b[39m, in \u001b[36m_convert_listlike_datetimes\u001b[39m\u001b[34m(arg, format, name, utc, unit, errors, dayfirst, yearfirst, exact)\u001b[39m\n\u001b[32m    434\u001b[39m \u001b[38;5;28;01mif\u001b[39;00m \u001b[38;5;28mformat\u001b[39m \u001b[38;5;129;01mis\u001b[39;00m \u001b[38;5;129;01mnot\u001b[39;00m \u001b[38;5;28;01mNone\u001b[39;00m \u001b[38;5;129;01mand\u001b[39;00m \u001b[38;5;28mformat\u001b[39m != \u001b[33m\"\u001b[39m\u001b[33mmixed\u001b[39m\u001b[33m\"\u001b[39m:\n\u001b[32m    435\u001b[39m     \u001b[38;5;28;01mreturn\u001b[39;00m _array_strptime_with_fallback(arg, name, utc, \u001b[38;5;28mformat\u001b[39m, exact, errors)\n\u001b[32m--> \u001b[39m\u001b[32m437\u001b[39m result, tz_parsed = \u001b[43mobjects_to_datetime64\u001b[49m\u001b[43m(\u001b[49m\n\u001b[32m    438\u001b[39m \u001b[43m    \u001b[49m\u001b[43marg\u001b[49m\u001b[43m,\u001b[49m\n\u001b[32m    439\u001b[39m \u001b[43m    \u001b[49m\u001b[43mdayfirst\u001b[49m\u001b[43m=\u001b[49m\u001b[43mdayfirst\u001b[49m\u001b[43m,\u001b[49m\n\u001b[32m    440\u001b[39m \u001b[43m    \u001b[49m\u001b[43myearfirst\u001b[49m\u001b[43m=\u001b[49m\u001b[43myearfirst\u001b[49m\u001b[43m,\u001b[49m\n\u001b[32m    441\u001b[39m \u001b[43m    \u001b[49m\u001b[43mutc\u001b[49m\u001b[43m=\u001b[49m\u001b[43mutc\u001b[49m\u001b[43m,\u001b[49m\n\u001b[32m    442\u001b[39m \u001b[43m    \u001b[49m\u001b[43merrors\u001b[49m\u001b[43m=\u001b[49m\u001b[43merrors\u001b[49m\u001b[43m,\u001b[49m\n\u001b[32m    443\u001b[39m \u001b[43m    \u001b[49m\u001b[43mallow_object\u001b[49m\u001b[43m=\u001b[49m\u001b[38;5;28;43;01mTrue\u001b[39;49;00m\u001b[43m,\u001b[49m\n\u001b[32m    444\u001b[39m \u001b[43m\u001b[49m\u001b[43m)\u001b[49m\n\u001b[32m    446\u001b[39m \u001b[38;5;28;01mif\u001b[39;00m tz_parsed \u001b[38;5;129;01mis\u001b[39;00m \u001b[38;5;129;01mnot\u001b[39;00m \u001b[38;5;28;01mNone\u001b[39;00m:\n\u001b[32m    447\u001b[39m     \u001b[38;5;66;03m# We can take a shortcut since the datetime64 numpy array\u001b[39;00m\n\u001b[32m    448\u001b[39m     \u001b[38;5;66;03m# is in UTC\u001b[39;00m\n\u001b[32m    449\u001b[39m     out_unit = np.datetime_data(result.dtype)[\u001b[32m0\u001b[39m]\n",
      "\u001b[36mFile \u001b[39m\u001b[32mc:\\Users\\PC\\anaconda3\\envs\\myenv\\Lib\\site-packages\\pandas\\core\\arrays\\datetimes.py:2415\u001b[39m, in \u001b[36mobjects_to_datetime64\u001b[39m\u001b[34m(data, dayfirst, yearfirst, utc, errors, allow_object, out_unit)\u001b[39m\n\u001b[32m   2412\u001b[39m \u001b[38;5;66;03m# if str-dtype, convert\u001b[39;00m\n\u001b[32m   2413\u001b[39m data = np.asarray(data, dtype=np.object_)\n\u001b[32m-> \u001b[39m\u001b[32m2415\u001b[39m result, tz_parsed = \u001b[43mtslib\u001b[49m\u001b[43m.\u001b[49m\u001b[43marray_to_datetime\u001b[49m\u001b[43m(\u001b[49m\n\u001b[32m   2416\u001b[39m \u001b[43m    \u001b[49m\u001b[43mdata\u001b[49m\u001b[43m,\u001b[49m\n\u001b[32m   2417\u001b[39m \u001b[43m    \u001b[49m\u001b[43merrors\u001b[49m\u001b[43m=\u001b[49m\u001b[43merrors\u001b[49m\u001b[43m,\u001b[49m\n\u001b[32m   2418\u001b[39m \u001b[43m    \u001b[49m\u001b[43mutc\u001b[49m\u001b[43m=\u001b[49m\u001b[43mutc\u001b[49m\u001b[43m,\u001b[49m\n\u001b[32m   2419\u001b[39m \u001b[43m    \u001b[49m\u001b[43mdayfirst\u001b[49m\u001b[43m=\u001b[49m\u001b[43mdayfirst\u001b[49m\u001b[43m,\u001b[49m\n\u001b[32m   2420\u001b[39m \u001b[43m    \u001b[49m\u001b[43myearfirst\u001b[49m\u001b[43m=\u001b[49m\u001b[43myearfirst\u001b[49m\u001b[43m,\u001b[49m\n\u001b[32m   2421\u001b[39m \u001b[43m    \u001b[49m\u001b[43mcreso\u001b[49m\u001b[43m=\u001b[49m\u001b[43mabbrev_to_npy_unit\u001b[49m\u001b[43m(\u001b[49m\u001b[43mout_unit\u001b[49m\u001b[43m)\u001b[49m\u001b[43m,\u001b[49m\n\u001b[32m   2422\u001b[39m \u001b[43m\u001b[49m\u001b[43m)\u001b[49m\n\u001b[32m   2424\u001b[39m \u001b[38;5;28;01mif\u001b[39;00m tz_parsed \u001b[38;5;129;01mis\u001b[39;00m \u001b[38;5;129;01mnot\u001b[39;00m \u001b[38;5;28;01mNone\u001b[39;00m:\n\u001b[32m   2425\u001b[39m     \u001b[38;5;66;03m# We can take a shortcut since the datetime64 numpy array\u001b[39;00m\n\u001b[32m   2426\u001b[39m     \u001b[38;5;66;03m#  is in UTC\u001b[39;00m\n\u001b[32m   2427\u001b[39m     \u001b[38;5;28;01mreturn\u001b[39;00m result, tz_parsed\n",
      "\u001b[36mFile \u001b[39m\u001b[32mpandas/_libs/tslib.pyx:412\u001b[39m, in \u001b[36mpandas._libs.tslib.array_to_datetime\u001b[39m\u001b[34m()\u001b[39m\n",
      "\u001b[36mFile \u001b[39m\u001b[32mpandas/_libs/tslib.pyx:596\u001b[39m, in \u001b[36mpandas._libs.tslib.array_to_datetime\u001b[39m\u001b[34m()\u001b[39m\n",
      "\u001b[36mFile \u001b[39m\u001b[32mpandas/_libs/tslib.pyx:553\u001b[39m, in \u001b[36mpandas._libs.tslib.array_to_datetime\u001b[39m\u001b[34m()\u001b[39m\n",
      "\u001b[36mFile \u001b[39m\u001b[32mpandas/_libs/tslibs/conversion.pyx:641\u001b[39m, in \u001b[36mpandas._libs.tslibs.conversion.convert_str_to_tsobject\u001b[39m\u001b[34m()\u001b[39m\n",
      "\u001b[36mFile \u001b[39m\u001b[32mpandas/_libs/tslibs/parsing.pyx:336\u001b[39m, in \u001b[36mpandas._libs.tslibs.parsing.parse_datetime_string\u001b[39m\u001b[34m()\u001b[39m\n",
      "\u001b[36mFile \u001b[39m\u001b[32mpandas/_libs/tslibs/parsing.pyx:666\u001b[39m, in \u001b[36mpandas._libs.tslibs.parsing.dateutil_parse\u001b[39m\u001b[34m()\u001b[39m\n",
      "\u001b[31mDateParseError\u001b[39m: Unknown datetime string format, unable to parse: date unk., at position 0"
     ]
    }
   ],
   "source": [
    "aviation_accidents_clean[\"date\"] = pd.to_datetime(aviation_accidents_clean[\"date\"])"
   ]
  }
 ],
 "metadata": {
  "kernelspec": {
   "display_name": "myenv",
   "language": "python",
   "name": "python3"
  },
  "language_info": {
   "codemirror_mode": {
    "name": "ipython",
    "version": 3
   },
   "file_extension": ".py",
   "mimetype": "text/x-python",
   "name": "python",
   "nbconvert_exporter": "python",
   "pygments_lexer": "ipython3",
   "version": "3.13.7"
  }
 },
 "nbformat": 4,
 "nbformat_minor": 5
}
