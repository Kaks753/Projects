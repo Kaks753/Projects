{
 "cells": [
  {
   "cell_type": "markdown",
   "id": "75558932",
   "metadata": {},
   "source": [
    "## Phase 1 Project "
   ]
  },
  {
   "cell_type": "markdown",
   "id": "976ae4f0",
   "metadata": {},
   "source": [
    "# Aircraft Risk Analysis Project\n",
    "\n",
    "## Overview\n",
    "The company is expanding into aviation and wants to identify which aircraft models present the **lowest risk**.  \n",
    "Our **main objective** is to generate **three data-backed business recommendations** on aircraft safety.\n",
    "\n",
    "We will support this by breaking down into **specific objectives**:\n",
    "\n",
    "1. Understand the dataset structure and assess missing data.\n",
    "2. Clean and prepare the dataset (column renaming, handling nulls, deriving new features).\n",
    "3. Explore accident frequency across aircraft makes and models.\n",
    "4. Assess accident severity (fatalities per accident).\n",
    "5. Analyze temporal and geographic patterns.\n",
    "6. Produce three clear recommendations backed by visualizations."
   ]
  },
  {
   "cell_type": "markdown",
   "id": "adf01154",
   "metadata": {},
   "source": [
    "**Business Understanding**\n",
    "\n",
    "- **Main objective:** Recommend the lowest-risk aircraft for acquisition.\n",
    "- **Key business questions:**\n",
    "  1. Which aircraft makes/models have relatively fewer accidents?\n",
    "  2. Which aircraft have lower severity (fewer fatalities when accidents occur)?\n",
    "  3. Are there patterns over time or geography that affect operational risk?"
   ]
  },
  {
   "cell_type": "markdown",
   "id": "f67e6a8f",
   "metadata": {},
   "source": [
    "Loading the dataset using Pandas"
   ]
  },
  {
   "cell_type": "code",
   "execution_count": 2,
   "id": "7a0093a8",
   "metadata": {},
   "outputs": [],
   "source": [
    "import pandas as pd\n",
    "aviation_accidents = pd.read_csv(\"aviation-accident-data-2023-05-16.csv\")"
   ]
  },
  {
   "cell_type": "markdown",
   "id": "fe0b9955",
   "metadata": {},
   "source": [
    "Dataset info : shows how the data is structured; rows, colums, and their data types. \n",
    "\n",
    "Also shows non-null values.\n",
    "\n",
    "The dataset contains 23,967 rows, and 9 columns\n",
    "\n",
    "It has a number of null entries"
   ]
  },
  {
   "cell_type": "code",
   "execution_count": 6,
   "id": "114e044b",
   "metadata": {},
   "outputs": [
    {
     "name": "stdout",
     "output_type": "stream",
     "text": [
      "<class 'pandas.core.frame.DataFrame'>\n",
      "RangeIndex: 23967 entries, 0 to 23966\n",
      "Data columns (total 9 columns):\n",
      " #   Column        Non-Null Count  Dtype \n",
      "---  ------        --------------  ----- \n",
      " 0   date          23967 non-null  object\n",
      " 1   type          23967 non-null  object\n",
      " 2   registration  22419 non-null  object\n",
      " 3   operator      23963 non-null  object\n",
      " 4   fatalities    20029 non-null  object\n",
      " 5   location      23019 non-null  object\n",
      " 6   country       23967 non-null  object\n",
      " 7   cat           23967 non-null  object\n",
      " 8   year          23967 non-null  object\n",
      "dtypes: object(9)\n",
      "memory usage: 1.6+ MB\n"
     ]
    }
   ],
   "source": [
    "aviation_accidents.info()"
   ]
  },
  {
   "cell_type": "code",
   "execution_count": null,
   "id": "df45aee9",
   "metadata": {},
   "outputs": [
    {
     "data": {
      "text/plain": [
       "(23967, 9)"
      ]
     },
     "execution_count": 9,
     "metadata": {},
     "output_type": "execute_result"
    }
   ],
   "source": [
    "aviation_accidents.shape # number of rows and columns in the dataset"
   ]
  },
  {
   "cell_type": "code",
   "execution_count": null,
   "id": "90062c23",
   "metadata": {},
   "outputs": [
    {
     "data": {
      "text/plain": [
       "Index(['date', 'type', 'registration', 'operator', 'fatalities', 'location',\n",
       "       'country', 'cat', 'year'],\n",
       "      dtype='object')"
      ]
     },
     "execution_count": 10,
     "metadata": {},
     "output_type": "execute_result"
    }
   ],
   "source": [
    "aviation_accidents.columns # column names in the dataset"
   ]
  },
  {
   "cell_type": "markdown",
   "id": "55cc6665",
   "metadata": {},
   "source": [
    "A brief look at the first five rows of the dataset"
   ]
  },
  {
   "cell_type": "code",
   "execution_count": 4,
   "id": "8f086ccf",
   "metadata": {},
   "outputs": [
    {
     "data": {
      "text/html": [
       "<div>\n",
       "<style scoped>\n",
       "    .dataframe tbody tr th:only-of-type {\n",
       "        vertical-align: middle;\n",
       "    }\n",
       "\n",
       "    .dataframe tbody tr th {\n",
       "        vertical-align: top;\n",
       "    }\n",
       "\n",
       "    .dataframe thead th {\n",
       "        text-align: right;\n",
       "    }\n",
       "</style>\n",
       "<table border=\"1\" class=\"dataframe\">\n",
       "  <thead>\n",
       "    <tr style=\"text-align: right;\">\n",
       "      <th></th>\n",
       "      <th>date</th>\n",
       "      <th>type</th>\n",
       "      <th>registration</th>\n",
       "      <th>operator</th>\n",
       "      <th>fatalities</th>\n",
       "      <th>location</th>\n",
       "      <th>country</th>\n",
       "      <th>cat</th>\n",
       "      <th>year</th>\n",
       "    </tr>\n",
       "  </thead>\n",
       "  <tbody>\n",
       "    <tr>\n",
       "      <th>0</th>\n",
       "      <td>date unk.</td>\n",
       "      <td>Antonov An-12B</td>\n",
       "      <td>T-1206</td>\n",
       "      <td>Indonesian AF</td>\n",
       "      <td>NaN</td>\n",
       "      <td>NaN</td>\n",
       "      <td>Unknown country</td>\n",
       "      <td>U1</td>\n",
       "      <td>unknown</td>\n",
       "    </tr>\n",
       "    <tr>\n",
       "      <th>1</th>\n",
       "      <td>date unk.</td>\n",
       "      <td>Antonov An-12B</td>\n",
       "      <td>T-1204</td>\n",
       "      <td>Indonesian AF</td>\n",
       "      <td>NaN</td>\n",
       "      <td>NaN</td>\n",
       "      <td>Unknown country</td>\n",
       "      <td>U1</td>\n",
       "      <td>unknown</td>\n",
       "    </tr>\n",
       "    <tr>\n",
       "      <th>2</th>\n",
       "      <td>date unk.</td>\n",
       "      <td>Antonov An-12B</td>\n",
       "      <td>T-1201</td>\n",
       "      <td>Indonesian AF</td>\n",
       "      <td>NaN</td>\n",
       "      <td>NaN</td>\n",
       "      <td>Unknown country</td>\n",
       "      <td>U1</td>\n",
       "      <td>unknown</td>\n",
       "    </tr>\n",
       "    <tr>\n",
       "      <th>3</th>\n",
       "      <td>date unk.</td>\n",
       "      <td>Antonov An-12BK</td>\n",
       "      <td>NaN</td>\n",
       "      <td>Soviet AF</td>\n",
       "      <td>NaN</td>\n",
       "      <td>Tiksi Airport (IKS)</td>\n",
       "      <td>Russia</td>\n",
       "      <td>A1</td>\n",
       "      <td>unknown</td>\n",
       "    </tr>\n",
       "    <tr>\n",
       "      <th>4</th>\n",
       "      <td>date unk.</td>\n",
       "      <td>Antonov An-12BP</td>\n",
       "      <td>CCCP-11815</td>\n",
       "      <td>Soviet AF</td>\n",
       "      <td>0</td>\n",
       "      <td>Massawa Airport ...</td>\n",
       "      <td>Eritrea</td>\n",
       "      <td>A1</td>\n",
       "      <td>unknown</td>\n",
       "    </tr>\n",
       "  </tbody>\n",
       "</table>\n",
       "</div>"
      ],
      "text/plain": [
       "        date             type registration       operator fatalities  \\\n",
       "0  date unk.   Antonov An-12B       T-1206  Indonesian AF        NaN   \n",
       "1  date unk.   Antonov An-12B       T-1204  Indonesian AF        NaN   \n",
       "2  date unk.   Antonov An-12B       T-1201  Indonesian AF        NaN   \n",
       "3  date unk.  Antonov An-12BK          NaN      Soviet AF        NaN   \n",
       "4  date unk.  Antonov An-12BP   CCCP-11815      Soviet AF          0   \n",
       "\n",
       "              location          country cat     year  \n",
       "0                  NaN  Unknown country  U1  unknown  \n",
       "1                  NaN  Unknown country  U1  unknown  \n",
       "2                  NaN  Unknown country  U1  unknown  \n",
       "3  Tiksi Airport (IKS)           Russia  A1  unknown  \n",
       "4  Massawa Airport ...          Eritrea  A1  unknown  "
      ]
     },
     "execution_count": 4,
     "metadata": {},
     "output_type": "execute_result"
    }
   ],
   "source": [
    "aviation_accidents.head()"
   ]
  },
  {
   "cell_type": "markdown",
   "id": "590213ad",
   "metadata": {},
   "source": [
    "A look at the last 8 entries in the dataset"
   ]
  },
  {
   "cell_type": "code",
   "execution_count": 12,
   "id": "3ca94d48",
   "metadata": {},
   "outputs": [
    {
     "data": {
      "text/html": [
       "<div>\n",
       "<style scoped>\n",
       "    .dataframe tbody tr th:only-of-type {\n",
       "        vertical-align: middle;\n",
       "    }\n",
       "\n",
       "    .dataframe tbody tr th {\n",
       "        vertical-align: top;\n",
       "    }\n",
       "\n",
       "    .dataframe thead th {\n",
       "        text-align: right;\n",
       "    }\n",
       "</style>\n",
       "<table border=\"1\" class=\"dataframe\">\n",
       "  <thead>\n",
       "    <tr style=\"text-align: right;\">\n",
       "      <th></th>\n",
       "      <th>date</th>\n",
       "      <th>type</th>\n",
       "      <th>registration</th>\n",
       "      <th>operator</th>\n",
       "      <th>fatalities</th>\n",
       "      <th>location</th>\n",
       "      <th>country</th>\n",
       "      <th>cat</th>\n",
       "      <th>year</th>\n",
       "    </tr>\n",
       "  </thead>\n",
       "  <tbody>\n",
       "    <tr>\n",
       "      <th>23959</th>\n",
       "      <td>26-APR-2023</td>\n",
       "      <td>Boeing 777-233LR</td>\n",
       "      <td>C-FIUF</td>\n",
       "      <td>Air Canada</td>\n",
       "      <td>0</td>\n",
       "      <td>Sydney-Kingsford...</td>\n",
       "      <td>Australia</td>\n",
       "      <td>A2</td>\n",
       "      <td>2023</td>\n",
       "    </tr>\n",
       "    <tr>\n",
       "      <th>23960</th>\n",
       "      <td>09-MAY-2023</td>\n",
       "      <td>Cessna 208 Caravan 675</td>\n",
       "      <td>PK-HVG</td>\n",
       "      <td>Dimonim Air</td>\n",
       "      <td>0</td>\n",
       "      <td>Yabi Airstrip</td>\n",
       "      <td>Indonesia</td>\n",
       "      <td>A2</td>\n",
       "      <td>2023</td>\n",
       "    </tr>\n",
       "    <tr>\n",
       "      <th>23961</th>\n",
       "      <td>10-MAY-2023</td>\n",
       "      <td>Learjet 36A</td>\n",
       "      <td>N56PA</td>\n",
       "      <td>Phoenix Air</td>\n",
       "      <td>3</td>\n",
       "      <td>near San Clemente Isl...</td>\n",
       "      <td>USA</td>\n",
       "      <td>A1</td>\n",
       "      <td>2023</td>\n",
       "    </tr>\n",
       "    <tr>\n",
       "      <th>23962</th>\n",
       "      <td>11-MAY-2023</td>\n",
       "      <td>Hawker 900XP</td>\n",
       "      <td>PK-LRU</td>\n",
       "      <td>Angkasa Super Services</td>\n",
       "      <td>0</td>\n",
       "      <td>Maleo Airport (MOH)</td>\n",
       "      <td>Indonesia</td>\n",
       "      <td>A2</td>\n",
       "      <td>2023</td>\n",
       "    </tr>\n",
       "    <tr>\n",
       "      <th>23963</th>\n",
       "      <td>11-MAY-2023</td>\n",
       "      <td>Cessna 208B Grand Caravan</td>\n",
       "      <td>PK-NGA</td>\n",
       "      <td>Nasional Global Aviasi</td>\n",
       "      <td>0</td>\n",
       "      <td>Fentheik Airstrip</td>\n",
       "      <td>Indonesia</td>\n",
       "      <td>A2</td>\n",
       "      <td>2023</td>\n",
       "    </tr>\n",
       "    <tr>\n",
       "      <th>23964</th>\n",
       "      <td>12-MAY-2023</td>\n",
       "      <td>Cessna 208B Grand Caravan</td>\n",
       "      <td>5X-RBR</td>\n",
       "      <td>Bar Aviation</td>\n",
       "      <td>0</td>\n",
       "      <td>Kampala-Kajjansi...</td>\n",
       "      <td>Uganda</td>\n",
       "      <td>A1</td>\n",
       "      <td>2023</td>\n",
       "    </tr>\n",
       "    <tr>\n",
       "      <th>23965</th>\n",
       "      <td>14-MAY-2023</td>\n",
       "      <td>Boeing 747-4R7F</td>\n",
       "      <td>LX-OCV</td>\n",
       "      <td>Cargolux</td>\n",
       "      <td>0</td>\n",
       "      <td>Luxembourg-Finde...</td>\n",
       "      <td>Luxembourg</td>\n",
       "      <td>A2</td>\n",
       "      <td>2023</td>\n",
       "    </tr>\n",
       "    <tr>\n",
       "      <th>23966</th>\n",
       "      <td>15-MAY-2023</td>\n",
       "      <td>Learjet 35A</td>\n",
       "      <td>D-CGFQ</td>\n",
       "      <td>GFD</td>\n",
       "      <td>2</td>\n",
       "      <td>Hohn Air Base</td>\n",
       "      <td>Germany</td>\n",
       "      <td>A1</td>\n",
       "      <td>2023</td>\n",
       "    </tr>\n",
       "  </tbody>\n",
       "</table>\n",
       "</div>"
      ],
      "text/plain": [
       "              date                       type registration  \\\n",
       "23959  26-APR-2023           Boeing 777-233LR       C-FIUF   \n",
       "23960  09-MAY-2023     Cessna 208 Caravan 675       PK-HVG   \n",
       "23961  10-MAY-2023                Learjet 36A        N56PA   \n",
       "23962  11-MAY-2023               Hawker 900XP       PK-LRU   \n",
       "23963  11-MAY-2023  Cessna 208B Grand Caravan       PK-NGA   \n",
       "23964  12-MAY-2023  Cessna 208B Grand Caravan       5X-RBR   \n",
       "23965  14-MAY-2023            Boeing 747-4R7F       LX-OCV   \n",
       "23966  15-MAY-2023                Learjet 35A       D-CGFQ   \n",
       "\n",
       "                     operator fatalities                  location  \\\n",
       "23959              Air Canada          0       Sydney-Kingsford...   \n",
       "23960             Dimonim Air          0             Yabi Airstrip   \n",
       "23961             Phoenix Air          3  near San Clemente Isl...   \n",
       "23962  Angkasa Super Services          0       Maleo Airport (MOH)   \n",
       "23963  Nasional Global Aviasi          0         Fentheik Airstrip   \n",
       "23964            Bar Aviation          0       Kampala-Kajjansi...   \n",
       "23965                Cargolux          0       Luxembourg-Finde...   \n",
       "23966                     GFD          2             Hohn Air Base   \n",
       "\n",
       "          country cat  year  \n",
       "23959   Australia  A2  2023  \n",
       "23960   Indonesia  A2  2023  \n",
       "23961         USA  A1  2023  \n",
       "23962   Indonesia  A2  2023  \n",
       "23963   Indonesia  A2  2023  \n",
       "23964      Uganda  A1  2023  \n",
       "23965  Luxembourg  A2  2023  \n",
       "23966     Germany  A1  2023  "
      ]
     },
     "execution_count": 12,
     "metadata": {},
     "output_type": "execute_result"
    }
   ],
   "source": [
    "aviation_accidents.tail(8)"
   ]
  },
  {
   "cell_type": "markdown",
   "id": "54e2923f",
   "metadata": {},
   "source": [
    "A summary of the dataset's stats for better understanding"
   ]
  },
  {
   "cell_type": "code",
   "execution_count": 13,
   "id": "9996e625",
   "metadata": {},
   "outputs": [
    {
     "data": {
      "text/html": [
       "<div>\n",
       "<style scoped>\n",
       "    .dataframe tbody tr th:only-of-type {\n",
       "        vertical-align: middle;\n",
       "    }\n",
       "\n",
       "    .dataframe tbody tr th {\n",
       "        vertical-align: top;\n",
       "    }\n",
       "\n",
       "    .dataframe thead th {\n",
       "        text-align: right;\n",
       "    }\n",
       "</style>\n",
       "<table border=\"1\" class=\"dataframe\">\n",
       "  <thead>\n",
       "    <tr style=\"text-align: right;\">\n",
       "      <th></th>\n",
       "      <th>date</th>\n",
       "      <th>type</th>\n",
       "      <th>registration</th>\n",
       "      <th>operator</th>\n",
       "      <th>fatalities</th>\n",
       "      <th>location</th>\n",
       "      <th>country</th>\n",
       "      <th>cat</th>\n",
       "      <th>year</th>\n",
       "    </tr>\n",
       "  </thead>\n",
       "  <tbody>\n",
       "    <tr>\n",
       "      <th>count</th>\n",
       "      <td>23967</td>\n",
       "      <td>23967</td>\n",
       "      <td>22419</td>\n",
       "      <td>23963</td>\n",
       "      <td>20029</td>\n",
       "      <td>23019</td>\n",
       "      <td>23967</td>\n",
       "      <td>23967</td>\n",
       "      <td>23967</td>\n",
       "    </tr>\n",
       "    <tr>\n",
       "      <th>unique</th>\n",
       "      <td>15079</td>\n",
       "      <td>3201</td>\n",
       "      <td>21962</td>\n",
       "      <td>6017</td>\n",
       "      <td>369</td>\n",
       "      <td>14608</td>\n",
       "      <td>232</td>\n",
       "      <td>11</td>\n",
       "      <td>106</td>\n",
       "    </tr>\n",
       "    <tr>\n",
       "      <th>top</th>\n",
       "      <td>10-MAY-1940</td>\n",
       "      <td>Douglas C-47A (DC-3)</td>\n",
       "      <td>LZ-...</td>\n",
       "      <td>USAAF</td>\n",
       "      <td>0</td>\n",
       "      <td>unknown</td>\n",
       "      <td>USA</td>\n",
       "      <td>A1</td>\n",
       "      <td>1944</td>\n",
       "    </tr>\n",
       "    <tr>\n",
       "      <th>freq</th>\n",
       "      <td>171</td>\n",
       "      <td>1916</td>\n",
       "      <td>13</td>\n",
       "      <td>2604</td>\n",
       "      <td>10713</td>\n",
       "      <td>272</td>\n",
       "      <td>4377</td>\n",
       "      <td>17424</td>\n",
       "      <td>1505</td>\n",
       "    </tr>\n",
       "  </tbody>\n",
       "</table>\n",
       "</div>"
      ],
      "text/plain": [
       "               date                  type registration operator fatalities  \\\n",
       "count         23967                 23967        22419    23963      20029   \n",
       "unique        15079                  3201        21962     6017        369   \n",
       "top     10-MAY-1940  Douglas C-47A (DC-3)       LZ-...    USAAF          0   \n",
       "freq            171                  1916           13     2604      10713   \n",
       "\n",
       "       location country    cat   year  \n",
       "count     23019   23967  23967  23967  \n",
       "unique    14608     232     11    106  \n",
       "top     unknown     USA     A1   1944  \n",
       "freq        272    4377  17424   1505  "
      ]
     },
     "execution_count": 13,
     "metadata": {},
     "output_type": "execute_result"
    }
   ],
   "source": [
    "aviation_accidents.describe()"
   ]
  },
  {
   "cell_type": "markdown",
   "id": "9f2acd50",
   "metadata": {},
   "source": [
    "## Missing values\n",
    "\n",
    "Checking and dealing with missing values in the dataset"
   ]
  },
  {
   "cell_type": "code",
   "execution_count": null,
   "id": "01a4da34",
   "metadata": {},
   "outputs": [],
   "source": []
  }
 ],
 "metadata": {
  "kernelspec": {
   "display_name": "myenv",
   "language": "python",
   "name": "python3"
  },
  "language_info": {
   "codemirror_mode": {
    "name": "ipython",
    "version": 3
   },
   "file_extension": ".py",
   "mimetype": "text/x-python",
   "name": "python",
   "nbconvert_exporter": "python",
   "pygments_lexer": "ipython3",
   "version": "3.13.7"
  }
 },
 "nbformat": 4,
 "nbformat_minor": 5
}
