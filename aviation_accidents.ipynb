{
 "cells": [
  {
   "cell_type": "markdown",
   "id": "75558932",
   "metadata": {},
   "source": [
    "## Phase 1 Project "
   ]
  },
  {
   "cell_type": "markdown",
   "id": "976ae4f0",
   "metadata": {},
   "source": [
    "# Aviation Accident Analysis \n",
    "\n",
    "# Overview\n",
    "\n",
    "This analysis examines global aviation accident records with the aim of identifying insights that can guide safer aircraft choices and inform strategic decision-making. The dataset contains over 23,967 incidents, covering details such as aircraft type, operator, fatalities, and geographical distribution. \n",
    "\n",
    "**Main objective:** Provide clear, data-driven recommendations on which aircraft are associated with lower operational risks. These recommendations will be grounded in historical accident patterns and severity levels observed in the data.\n",
    "\n",
    "The study is structured around a set of exploratory objectives that frame the analysis and visualization stages."
   ]
  },
  {
   "cell_type": "markdown",
   "id": "d6b55b99",
   "metadata": {},
   "source": [
    "# Objectives\n",
    "\n",
    "- To identify aircraft makes and models with the highest and lowest historical accident rates\n",
    "- To analyze temporal patterns in aviation accidents.  \n",
    "- To evaluate the geographical distribution of accidents and identify high-risk regions\n",
    "- To evaliate top operators by accident count\n",
    "- To examine relationships in the dataset.\n",
    "\n",
    "\n"
   ]
  },
  {
   "cell_type": "markdown",
   "id": "f67e6a8f",
   "metadata": {},
   "source": [
    "Loading the dataset using Pandas"
   ]
  },
  {
   "cell_type": "code",
   "execution_count": 3,
   "id": "7a0093a8",
   "metadata": {},
   "outputs": [],
   "source": [
    "import pandas as pd\n",
    "import warnings\n",
    "warnings.filterwarnings('ignore')\n",
    "\n",
    "aviation_accidents = pd.read_csv(\"aviation-accident-data-2023-05-16.csv\")"
   ]
  },
  {
   "cell_type": "markdown",
   "id": "fe0b9955",
   "metadata": {},
   "source": [
    "Dataset info\n",
    "\n",
    "shows how the data is structured; rows, colums, and their data types. \n",
    "\n",
    "Also shows non-null values.\n",
    "\n",
    "The dataset contains 23,967 rows, and 9 columns\n",
    "\n",
    "It has a number of null entries"
   ]
  },
  {
   "cell_type": "code",
   "execution_count": 4,
   "id": "114e044b",
   "metadata": {},
   "outputs": [
    {
     "name": "stdout",
     "output_type": "stream",
     "text": [
      "<class 'pandas.core.frame.DataFrame'>\n",
      "RangeIndex: 23967 entries, 0 to 23966\n",
      "Data columns (total 9 columns):\n",
      " #   Column        Non-Null Count  Dtype \n",
      "---  ------        --------------  ----- \n",
      " 0   date          23967 non-null  object\n",
      " 1   type          23967 non-null  object\n",
      " 2   registration  22419 non-null  object\n",
      " 3   operator      23963 non-null  object\n",
      " 4   fatalities    20029 non-null  object\n",
      " 5   location      23019 non-null  object\n",
      " 6   country       23967 non-null  object\n",
      " 7   cat           23967 non-null  object\n",
      " 8   year          23967 non-null  object\n",
      "dtypes: object(9)\n",
      "memory usage: 1.6+ MB\n"
     ]
    }
   ],
   "source": [
    "aviation_accidents.info()"
   ]
  },
  {
   "cell_type": "code",
   "execution_count": 5,
   "id": "df45aee9",
   "metadata": {},
   "outputs": [
    {
     "data": {
      "text/plain": [
       "(23967, 9)"
      ]
     },
     "execution_count": 5,
     "metadata": {},
     "output_type": "execute_result"
    }
   ],
   "source": [
    "aviation_accidents.shape # number of rows and columns in the dataset"
   ]
  },
  {
   "cell_type": "code",
   "execution_count": 6,
   "id": "90062c23",
   "metadata": {},
   "outputs": [
    {
     "data": {
      "text/plain": [
       "Index(['date', 'type', 'registration', 'operator', 'fatalities', 'location',\n",
       "       'country', 'cat', 'year'],\n",
       "      dtype='object')"
      ]
     },
     "execution_count": 6,
     "metadata": {},
     "output_type": "execute_result"
    }
   ],
   "source": [
    "aviation_accidents.columns # column names in the dataset"
   ]
  },
  {
   "cell_type": "markdown",
   "id": "55cc6665",
   "metadata": {},
   "source": [
    "A brief look at the first five rows of the dataset"
   ]
  },
  {
   "cell_type": "code",
   "execution_count": 7,
   "id": "8f086ccf",
   "metadata": {},
   "outputs": [
    {
     "data": {
      "text/html": [
       "<div>\n",
       "<style scoped>\n",
       "    .dataframe tbody tr th:only-of-type {\n",
       "        vertical-align: middle;\n",
       "    }\n",
       "\n",
       "    .dataframe tbody tr th {\n",
       "        vertical-align: top;\n",
       "    }\n",
       "\n",
       "    .dataframe thead th {\n",
       "        text-align: right;\n",
       "    }\n",
       "</style>\n",
       "<table border=\"1\" class=\"dataframe\">\n",
       "  <thead>\n",
       "    <tr style=\"text-align: right;\">\n",
       "      <th></th>\n",
       "      <th>date</th>\n",
       "      <th>type</th>\n",
       "      <th>registration</th>\n",
       "      <th>operator</th>\n",
       "      <th>fatalities</th>\n",
       "      <th>location</th>\n",
       "      <th>country</th>\n",
       "      <th>cat</th>\n",
       "      <th>year</th>\n",
       "    </tr>\n",
       "  </thead>\n",
       "  <tbody>\n",
       "    <tr>\n",
       "      <th>0</th>\n",
       "      <td>date unk.</td>\n",
       "      <td>Antonov An-12B</td>\n",
       "      <td>T-1206</td>\n",
       "      <td>Indonesian AF</td>\n",
       "      <td>NaN</td>\n",
       "      <td>NaN</td>\n",
       "      <td>Unknown country</td>\n",
       "      <td>U1</td>\n",
       "      <td>unknown</td>\n",
       "    </tr>\n",
       "    <tr>\n",
       "      <th>1</th>\n",
       "      <td>date unk.</td>\n",
       "      <td>Antonov An-12B</td>\n",
       "      <td>T-1204</td>\n",
       "      <td>Indonesian AF</td>\n",
       "      <td>NaN</td>\n",
       "      <td>NaN</td>\n",
       "      <td>Unknown country</td>\n",
       "      <td>U1</td>\n",
       "      <td>unknown</td>\n",
       "    </tr>\n",
       "    <tr>\n",
       "      <th>2</th>\n",
       "      <td>date unk.</td>\n",
       "      <td>Antonov An-12B</td>\n",
       "      <td>T-1201</td>\n",
       "      <td>Indonesian AF</td>\n",
       "      <td>NaN</td>\n",
       "      <td>NaN</td>\n",
       "      <td>Unknown country</td>\n",
       "      <td>U1</td>\n",
       "      <td>unknown</td>\n",
       "    </tr>\n",
       "    <tr>\n",
       "      <th>3</th>\n",
       "      <td>date unk.</td>\n",
       "      <td>Antonov An-12BK</td>\n",
       "      <td>NaN</td>\n",
       "      <td>Soviet AF</td>\n",
       "      <td>NaN</td>\n",
       "      <td>Tiksi Airport (IKS)</td>\n",
       "      <td>Russia</td>\n",
       "      <td>A1</td>\n",
       "      <td>unknown</td>\n",
       "    </tr>\n",
       "    <tr>\n",
       "      <th>4</th>\n",
       "      <td>date unk.</td>\n",
       "      <td>Antonov An-12BP</td>\n",
       "      <td>CCCP-11815</td>\n",
       "      <td>Soviet AF</td>\n",
       "      <td>0</td>\n",
       "      <td>Massawa Airport ...</td>\n",
       "      <td>Eritrea</td>\n",
       "      <td>A1</td>\n",
       "      <td>unknown</td>\n",
       "    </tr>\n",
       "  </tbody>\n",
       "</table>\n",
       "</div>"
      ],
      "text/plain": [
       "        date             type registration       operator fatalities  \\\n",
       "0  date unk.   Antonov An-12B       T-1206  Indonesian AF        NaN   \n",
       "1  date unk.   Antonov An-12B       T-1204  Indonesian AF        NaN   \n",
       "2  date unk.   Antonov An-12B       T-1201  Indonesian AF        NaN   \n",
       "3  date unk.  Antonov An-12BK          NaN      Soviet AF        NaN   \n",
       "4  date unk.  Antonov An-12BP   CCCP-11815      Soviet AF          0   \n",
       "\n",
       "              location          country cat     year  \n",
       "0                  NaN  Unknown country  U1  unknown  \n",
       "1                  NaN  Unknown country  U1  unknown  \n",
       "2                  NaN  Unknown country  U1  unknown  \n",
       "3  Tiksi Airport (IKS)           Russia  A1  unknown  \n",
       "4  Massawa Airport ...          Eritrea  A1  unknown  "
      ]
     },
     "execution_count": 7,
     "metadata": {},
     "output_type": "execute_result"
    }
   ],
   "source": [
    "aviation_accidents.head()"
   ]
  },
  {
   "cell_type": "markdown",
   "id": "590213ad",
   "metadata": {},
   "source": [
    "A look at the last 8 entries in the dataset"
   ]
  },
  {
   "cell_type": "code",
   "execution_count": 8,
   "id": "3ca94d48",
   "metadata": {},
   "outputs": [
    {
     "data": {
      "text/html": [
       "<div>\n",
       "<style scoped>\n",
       "    .dataframe tbody tr th:only-of-type {\n",
       "        vertical-align: middle;\n",
       "    }\n",
       "\n",
       "    .dataframe tbody tr th {\n",
       "        vertical-align: top;\n",
       "    }\n",
       "\n",
       "    .dataframe thead th {\n",
       "        text-align: right;\n",
       "    }\n",
       "</style>\n",
       "<table border=\"1\" class=\"dataframe\">\n",
       "  <thead>\n",
       "    <tr style=\"text-align: right;\">\n",
       "      <th></th>\n",
       "      <th>date</th>\n",
       "      <th>type</th>\n",
       "      <th>registration</th>\n",
       "      <th>operator</th>\n",
       "      <th>fatalities</th>\n",
       "      <th>location</th>\n",
       "      <th>country</th>\n",
       "      <th>cat</th>\n",
       "      <th>year</th>\n",
       "    </tr>\n",
       "  </thead>\n",
       "  <tbody>\n",
       "    <tr>\n",
       "      <th>23959</th>\n",
       "      <td>26-APR-2023</td>\n",
       "      <td>Boeing 777-233LR</td>\n",
       "      <td>C-FIUF</td>\n",
       "      <td>Air Canada</td>\n",
       "      <td>0</td>\n",
       "      <td>Sydney-Kingsford...</td>\n",
       "      <td>Australia</td>\n",
       "      <td>A2</td>\n",
       "      <td>2023</td>\n",
       "    </tr>\n",
       "    <tr>\n",
       "      <th>23960</th>\n",
       "      <td>09-MAY-2023</td>\n",
       "      <td>Cessna 208 Caravan 675</td>\n",
       "      <td>PK-HVG</td>\n",
       "      <td>Dimonim Air</td>\n",
       "      <td>0</td>\n",
       "      <td>Yabi Airstrip</td>\n",
       "      <td>Indonesia</td>\n",
       "      <td>A2</td>\n",
       "      <td>2023</td>\n",
       "    </tr>\n",
       "    <tr>\n",
       "      <th>23961</th>\n",
       "      <td>10-MAY-2023</td>\n",
       "      <td>Learjet 36A</td>\n",
       "      <td>N56PA</td>\n",
       "      <td>Phoenix Air</td>\n",
       "      <td>3</td>\n",
       "      <td>near San Clemente Isl...</td>\n",
       "      <td>USA</td>\n",
       "      <td>A1</td>\n",
       "      <td>2023</td>\n",
       "    </tr>\n",
       "    <tr>\n",
       "      <th>23962</th>\n",
       "      <td>11-MAY-2023</td>\n",
       "      <td>Hawker 900XP</td>\n",
       "      <td>PK-LRU</td>\n",
       "      <td>Angkasa Super Services</td>\n",
       "      <td>0</td>\n",
       "      <td>Maleo Airport (MOH)</td>\n",
       "      <td>Indonesia</td>\n",
       "      <td>A2</td>\n",
       "      <td>2023</td>\n",
       "    </tr>\n",
       "    <tr>\n",
       "      <th>23963</th>\n",
       "      <td>11-MAY-2023</td>\n",
       "      <td>Cessna 208B Grand Caravan</td>\n",
       "      <td>PK-NGA</td>\n",
       "      <td>Nasional Global Aviasi</td>\n",
       "      <td>0</td>\n",
       "      <td>Fentheik Airstrip</td>\n",
       "      <td>Indonesia</td>\n",
       "      <td>A2</td>\n",
       "      <td>2023</td>\n",
       "    </tr>\n",
       "    <tr>\n",
       "      <th>23964</th>\n",
       "      <td>12-MAY-2023</td>\n",
       "      <td>Cessna 208B Grand Caravan</td>\n",
       "      <td>5X-RBR</td>\n",
       "      <td>Bar Aviation</td>\n",
       "      <td>0</td>\n",
       "      <td>Kampala-Kajjansi...</td>\n",
       "      <td>Uganda</td>\n",
       "      <td>A1</td>\n",
       "      <td>2023</td>\n",
       "    </tr>\n",
       "    <tr>\n",
       "      <th>23965</th>\n",
       "      <td>14-MAY-2023</td>\n",
       "      <td>Boeing 747-4R7F</td>\n",
       "      <td>LX-OCV</td>\n",
       "      <td>Cargolux</td>\n",
       "      <td>0</td>\n",
       "      <td>Luxembourg-Finde...</td>\n",
       "      <td>Luxembourg</td>\n",
       "      <td>A2</td>\n",
       "      <td>2023</td>\n",
       "    </tr>\n",
       "    <tr>\n",
       "      <th>23966</th>\n",
       "      <td>15-MAY-2023</td>\n",
       "      <td>Learjet 35A</td>\n",
       "      <td>D-CGFQ</td>\n",
       "      <td>GFD</td>\n",
       "      <td>2</td>\n",
       "      <td>Hohn Air Base</td>\n",
       "      <td>Germany</td>\n",
       "      <td>A1</td>\n",
       "      <td>2023</td>\n",
       "    </tr>\n",
       "  </tbody>\n",
       "</table>\n",
       "</div>"
      ],
      "text/plain": [
       "              date                       type registration  \\\n",
       "23959  26-APR-2023           Boeing 777-233LR       C-FIUF   \n",
       "23960  09-MAY-2023     Cessna 208 Caravan 675       PK-HVG   \n",
       "23961  10-MAY-2023                Learjet 36A        N56PA   \n",
       "23962  11-MAY-2023               Hawker 900XP       PK-LRU   \n",
       "23963  11-MAY-2023  Cessna 208B Grand Caravan       PK-NGA   \n",
       "23964  12-MAY-2023  Cessna 208B Grand Caravan       5X-RBR   \n",
       "23965  14-MAY-2023            Boeing 747-4R7F       LX-OCV   \n",
       "23966  15-MAY-2023                Learjet 35A       D-CGFQ   \n",
       "\n",
       "                     operator fatalities                  location  \\\n",
       "23959              Air Canada          0       Sydney-Kingsford...   \n",
       "23960             Dimonim Air          0             Yabi Airstrip   \n",
       "23961             Phoenix Air          3  near San Clemente Isl...   \n",
       "23962  Angkasa Super Services          0       Maleo Airport (MOH)   \n",
       "23963  Nasional Global Aviasi          0         Fentheik Airstrip   \n",
       "23964            Bar Aviation          0       Kampala-Kajjansi...   \n",
       "23965                Cargolux          0       Luxembourg-Finde...   \n",
       "23966                     GFD          2             Hohn Air Base   \n",
       "\n",
       "          country cat  year  \n",
       "23959   Australia  A2  2023  \n",
       "23960   Indonesia  A2  2023  \n",
       "23961         USA  A1  2023  \n",
       "23962   Indonesia  A2  2023  \n",
       "23963   Indonesia  A2  2023  \n",
       "23964      Uganda  A1  2023  \n",
       "23965  Luxembourg  A2  2023  \n",
       "23966     Germany  A1  2023  "
      ]
     },
     "execution_count": 8,
     "metadata": {},
     "output_type": "execute_result"
    }
   ],
   "source": [
    "aviation_accidents.tail(8)"
   ]
  },
  {
   "cell_type": "markdown",
   "id": "54e2923f",
   "metadata": {},
   "source": [
    "A summary of the dataset's stats for better understanding"
   ]
  },
  {
   "cell_type": "code",
   "execution_count": 9,
   "id": "9996e625",
   "metadata": {},
   "outputs": [
    {
     "data": {
      "text/html": [
       "<div>\n",
       "<style scoped>\n",
       "    .dataframe tbody tr th:only-of-type {\n",
       "        vertical-align: middle;\n",
       "    }\n",
       "\n",
       "    .dataframe tbody tr th {\n",
       "        vertical-align: top;\n",
       "    }\n",
       "\n",
       "    .dataframe thead th {\n",
       "        text-align: right;\n",
       "    }\n",
       "</style>\n",
       "<table border=\"1\" class=\"dataframe\">\n",
       "  <thead>\n",
       "    <tr style=\"text-align: right;\">\n",
       "      <th></th>\n",
       "      <th>date</th>\n",
       "      <th>type</th>\n",
       "      <th>registration</th>\n",
       "      <th>operator</th>\n",
       "      <th>fatalities</th>\n",
       "      <th>location</th>\n",
       "      <th>country</th>\n",
       "      <th>cat</th>\n",
       "      <th>year</th>\n",
       "    </tr>\n",
       "  </thead>\n",
       "  <tbody>\n",
       "    <tr>\n",
       "      <th>count</th>\n",
       "      <td>23967</td>\n",
       "      <td>23967</td>\n",
       "      <td>22419</td>\n",
       "      <td>23963</td>\n",
       "      <td>20029</td>\n",
       "      <td>23019</td>\n",
       "      <td>23967</td>\n",
       "      <td>23967</td>\n",
       "      <td>23967</td>\n",
       "    </tr>\n",
       "    <tr>\n",
       "      <th>unique</th>\n",
       "      <td>15079</td>\n",
       "      <td>3201</td>\n",
       "      <td>21962</td>\n",
       "      <td>6017</td>\n",
       "      <td>369</td>\n",
       "      <td>14608</td>\n",
       "      <td>232</td>\n",
       "      <td>11</td>\n",
       "      <td>106</td>\n",
       "    </tr>\n",
       "    <tr>\n",
       "      <th>top</th>\n",
       "      <td>10-MAY-1940</td>\n",
       "      <td>Douglas C-47A (DC-3)</td>\n",
       "      <td>LZ-...</td>\n",
       "      <td>USAAF</td>\n",
       "      <td>0</td>\n",
       "      <td>unknown</td>\n",
       "      <td>USA</td>\n",
       "      <td>A1</td>\n",
       "      <td>1944</td>\n",
       "    </tr>\n",
       "    <tr>\n",
       "      <th>freq</th>\n",
       "      <td>171</td>\n",
       "      <td>1916</td>\n",
       "      <td>13</td>\n",
       "      <td>2604</td>\n",
       "      <td>10713</td>\n",
       "      <td>272</td>\n",
       "      <td>4377</td>\n",
       "      <td>17424</td>\n",
       "      <td>1505</td>\n",
       "    </tr>\n",
       "  </tbody>\n",
       "</table>\n",
       "</div>"
      ],
      "text/plain": [
       "               date                  type registration operator fatalities  \\\n",
       "count         23967                 23967        22419    23963      20029   \n",
       "unique        15079                  3201        21962     6017        369   \n",
       "top     10-MAY-1940  Douglas C-47A (DC-3)       LZ-...    USAAF          0   \n",
       "freq            171                  1916           13     2604      10713   \n",
       "\n",
       "       location country    cat   year  \n",
       "count     23019   23967  23967  23967  \n",
       "unique    14608     232     11    106  \n",
       "top     unknown     USA     A1   1944  \n",
       "freq        272    4377  17424   1505  "
      ]
     },
     "execution_count": 9,
     "metadata": {},
     "output_type": "execute_result"
    }
   ],
   "source": [
    "aviation_accidents.describe()"
   ]
  },
  {
   "cell_type": "markdown",
   "id": "43bfc4b9",
   "metadata": {},
   "source": [
    "This step -unlike using the describe()- gives summary statistics for both numeric and categorical columns.\n",
    "\n",
    "Will help us understand ranges, most frequent values, and distributions.\n"
   ]
  },
  {
   "cell_type": "code",
   "execution_count": 10,
   "id": "9e21d747",
   "metadata": {},
   "outputs": [
    {
     "data": {
      "text/html": [
       "<div>\n",
       "<style scoped>\n",
       "    .dataframe tbody tr th:only-of-type {\n",
       "        vertical-align: middle;\n",
       "    }\n",
       "\n",
       "    .dataframe tbody tr th {\n",
       "        vertical-align: top;\n",
       "    }\n",
       "\n",
       "    .dataframe thead th {\n",
       "        text-align: right;\n",
       "    }\n",
       "</style>\n",
       "<table border=\"1\" class=\"dataframe\">\n",
       "  <thead>\n",
       "    <tr style=\"text-align: right;\">\n",
       "      <th></th>\n",
       "      <th>count</th>\n",
       "      <th>unique</th>\n",
       "      <th>top</th>\n",
       "      <th>freq</th>\n",
       "    </tr>\n",
       "  </thead>\n",
       "  <tbody>\n",
       "    <tr>\n",
       "      <th>date</th>\n",
       "      <td>23967</td>\n",
       "      <td>15079</td>\n",
       "      <td>10-MAY-1940</td>\n",
       "      <td>171</td>\n",
       "    </tr>\n",
       "    <tr>\n",
       "      <th>type</th>\n",
       "      <td>23967</td>\n",
       "      <td>3201</td>\n",
       "      <td>Douglas C-47A (DC-3)</td>\n",
       "      <td>1916</td>\n",
       "    </tr>\n",
       "    <tr>\n",
       "      <th>registration</th>\n",
       "      <td>22419</td>\n",
       "      <td>21962</td>\n",
       "      <td>LZ-...</td>\n",
       "      <td>13</td>\n",
       "    </tr>\n",
       "    <tr>\n",
       "      <th>operator</th>\n",
       "      <td>23963</td>\n",
       "      <td>6017</td>\n",
       "      <td>USAAF</td>\n",
       "      <td>2604</td>\n",
       "    </tr>\n",
       "    <tr>\n",
       "      <th>fatalities</th>\n",
       "      <td>20029</td>\n",
       "      <td>369</td>\n",
       "      <td>0</td>\n",
       "      <td>10713</td>\n",
       "    </tr>\n",
       "    <tr>\n",
       "      <th>location</th>\n",
       "      <td>23019</td>\n",
       "      <td>14608</td>\n",
       "      <td>unknown</td>\n",
       "      <td>272</td>\n",
       "    </tr>\n",
       "    <tr>\n",
       "      <th>country</th>\n",
       "      <td>23967</td>\n",
       "      <td>232</td>\n",
       "      <td>USA</td>\n",
       "      <td>4377</td>\n",
       "    </tr>\n",
       "    <tr>\n",
       "      <th>cat</th>\n",
       "      <td>23967</td>\n",
       "      <td>11</td>\n",
       "      <td>A1</td>\n",
       "      <td>17424</td>\n",
       "    </tr>\n",
       "    <tr>\n",
       "      <th>year</th>\n",
       "      <td>23967</td>\n",
       "      <td>106</td>\n",
       "      <td>1944</td>\n",
       "      <td>1505</td>\n",
       "    </tr>\n",
       "  </tbody>\n",
       "</table>\n",
       "</div>"
      ],
      "text/plain": [
       "              count unique                   top   freq\n",
       "date          23967  15079           10-MAY-1940    171\n",
       "type          23967   3201  Douglas C-47A (DC-3)   1916\n",
       "registration  22419  21962                LZ-...     13\n",
       "operator      23963   6017                 USAAF   2604\n",
       "fatalities    20029    369                     0  10713\n",
       "location      23019  14608               unknown    272\n",
       "country       23967    232                   USA   4377\n",
       "cat           23967     11                    A1  17424\n",
       "year          23967    106                  1944   1505"
      ]
     },
     "execution_count": 10,
     "metadata": {},
     "output_type": "execute_result"
    }
   ],
   "source": [
    "# Descriptive statistics\n",
    "aviation_accidents.describe(include=\"all\").T\n"
   ]
  },
  {
   "cell_type": "markdown",
   "id": "aa35fe17",
   "metadata": {},
   "source": [
    "## Data cleaning\n",
    "\n",
    "Dealing with data types conversions and missing values"
   ]
  },
  {
   "cell_type": "markdown",
   "id": "e4750e43",
   "metadata": {},
   "source": [
    "Converting date to datetime"
   ]
  },
  {
   "cell_type": "code",
   "execution_count": 11,
   "id": "f956530c",
   "metadata": {},
   "outputs": [],
   "source": [
    "aviation_accidents[\"date\"] = pd.to_datetime(aviation_accidents[\"date\"],errors='coerce')\n"
   ]
  },
  {
   "cell_type": "markdown",
   "id": "ba8081e0",
   "metadata": {},
   "source": [
    "A look ate the cleaned data\n",
    "\n",
    "Still some columns not in correct type, like year should be numeric"
   ]
  },
  {
   "cell_type": "code",
   "execution_count": 12,
   "id": "a5dd597b",
   "metadata": {},
   "outputs": [
    {
     "name": "stdout",
     "output_type": "stream",
     "text": [
      "<class 'pandas.core.frame.DataFrame'>\n",
      "RangeIndex: 23967 entries, 0 to 23966\n",
      "Data columns (total 9 columns):\n",
      " #   Column        Non-Null Count  Dtype         \n",
      "---  ------        --------------  -----         \n",
      " 0   date          23408 non-null  datetime64[ns]\n",
      " 1   type          23967 non-null  object        \n",
      " 2   registration  22419 non-null  object        \n",
      " 3   operator      23963 non-null  object        \n",
      " 4   fatalities    20029 non-null  object        \n",
      " 5   location      23019 non-null  object        \n",
      " 6   country       23967 non-null  object        \n",
      " 7   cat           23967 non-null  object        \n",
      " 8   year          23967 non-null  object        \n",
      "dtypes: datetime64[ns](1), object(8)\n",
      "memory usage: 1.6+ MB\n"
     ]
    }
   ],
   "source": [
    "aviation_accidents.info()"
   ]
  },
  {
   "cell_type": "code",
   "execution_count": 13,
   "id": "a238a638",
   "metadata": {},
   "outputs": [],
   "source": [
    "aviation_accidents[\"year\"] = pd.to_numeric(aviation_accidents[\"year\"],errors='coerce')  \n",
    "\n",
    "# converting year to numeric"
   ]
  },
  {
   "cell_type": "code",
   "execution_count": 14,
   "id": "83e20317",
   "metadata": {},
   "outputs": [],
   "source": [
    "aviation_accidents[\"year\"] = aviation_accidents[\"year\"].astype(\"Int64\")\n",
    "\n",
    "# converting year to integer to eliminate decimal points"
   ]
  },
  {
   "cell_type": "code",
   "execution_count": 15,
   "id": "d1cfb4c1",
   "metadata": {},
   "outputs": [
    {
     "data": {
      "text/plain": [
       "np.int64(61)"
      ]
     },
     "execution_count": 15,
     "metadata": {},
     "output_type": "execute_result"
    }
   ],
   "source": [
    "aviation_accidents['year'].isna().sum()\n",
    "\n",
    "#upon conversion, we get 61 missing/unknown values in the tear column which have to be solved"
   ]
  },
  {
   "cell_type": "markdown",
   "id": "35240c2e",
   "metadata": {},
   "source": [
    "Converting fatalities column to numeric"
   ]
  },
  {
   "cell_type": "code",
   "execution_count": 16,
   "id": "d5b03d50",
   "metadata": {},
   "outputs": [],
   "source": [
    "aviation_accidents[\"fatalities\"] = pd.to_numeric(aviation_accidents[\"fatalities\"], errors=\"coerce\")"
   ]
  },
  {
   "cell_type": "code",
   "execution_count": 17,
   "id": "2db38d39",
   "metadata": {},
   "outputs": [
    {
     "data": {
      "text/plain": [
       "dtype('float64')"
      ]
     },
     "execution_count": 17,
     "metadata": {},
     "output_type": "execute_result"
    }
   ],
   "source": [
    "aviation_accidents[\"fatalities\"].dtype"
   ]
  },
  {
   "cell_type": "code",
   "execution_count": 18,
   "id": "6a79c3f4",
   "metadata": {},
   "outputs": [],
   "source": [
    "aviation_accidents[\"fatalities\"] = aviation_accidents[\"fatalities\"].astype(\"Int64\")\n",
    "# to integer type to eliminate decimal points and better represent count data"
   ]
  },
  {
   "cell_type": "code",
   "execution_count": 19,
   "id": "2b05cf54",
   "metadata": {},
   "outputs": [
    {
     "data": {
      "text/plain": [
       "Int64Dtype()"
      ]
     },
     "execution_count": 19,
     "metadata": {},
     "output_type": "execute_result"
    }
   ],
   "source": [
    "aviation_accidents['fatalities'].dtype\n",
    "# checkig the new data type"
   ]
  },
  {
   "cell_type": "markdown",
   "id": "701b1693",
   "metadata": {},
   "source": [
    "Confirming the data types in the cleaned data\n",
    "\n",
    "All columns are now well converted to their proper data types"
   ]
  },
  {
   "cell_type": "code",
   "execution_count": 20,
   "id": "78fe5e16",
   "metadata": {},
   "outputs": [
    {
     "data": {
      "text/plain": [
       "date            datetime64[ns]\n",
       "type                    object\n",
       "registration            object\n",
       "operator                object\n",
       "fatalities               Int64\n",
       "location                object\n",
       "country                 object\n",
       "cat                     object\n",
       "year                     Int64\n",
       "dtype: object"
      ]
     },
     "execution_count": 20,
     "metadata": {},
     "output_type": "execute_result"
    }
   ],
   "source": [
    "aviation_accidents.dtypes"
   ]
  },
  {
   "cell_type": "markdown",
   "id": "92ab0c95",
   "metadata": {},
   "source": [
    "## Missing values \n",
    "\n",
    "Checking and dealing with missing values in the dataset"
   ]
  },
  {
   "cell_type": "markdown",
   "id": "37648207",
   "metadata": {},
   "source": [
    "Checking number of missing values per column in the dataset"
   ]
  },
  {
   "cell_type": "code",
   "execution_count": 21,
   "id": "01a4da34",
   "metadata": {},
   "outputs": [
    {
     "data": {
      "text/plain": [
       "date             559\n",
       "type               0\n",
       "registration    1548\n",
       "operator           4\n",
       "fatalities      4291\n",
       "location         948\n",
       "country            0\n",
       "cat                0\n",
       "year              61\n",
       "dtype: int64"
      ]
     },
     "execution_count": 21,
     "metadata": {},
     "output_type": "execute_result"
    }
   ],
   "source": [
    "aviation_accidents.isna().sum() \n",
    "\n",
    "# there are missing values in registration,fatalities, location, and year columns that have to be fixed"
   ]
  },
  {
   "cell_type": "markdown",
   "id": "00f40f4d",
   "metadata": {},
   "source": [
    "Using dropna to fix the nulls\n",
    "\n",
    "Dropna is used here since droping the missing values leaves us with 75.56% of the data which is worth using"
   ]
  },
  {
   "cell_type": "code",
   "execution_count": 22,
   "id": "b28507c7",
   "metadata": {},
   "outputs": [],
   "source": [
    "aviation_accidents_cleaned = aviation_accidents.dropna()\n",
    "\n",
    "# assigned the cleaned dataset to a new variable to preserve the original dataset"
   ]
  },
  {
   "cell_type": "markdown",
   "id": "0fdc9df7",
   "metadata": {},
   "source": [
    "Quick look at the new dataset shape"
   ]
  },
  {
   "cell_type": "code",
   "execution_count": 23,
   "id": "a49e703e",
   "metadata": {},
   "outputs": [
    {
     "data": {
      "text/plain": [
       "(18112, 9)"
      ]
     },
     "execution_count": 23,
     "metadata": {},
     "output_type": "execute_result"
    }
   ],
   "source": [
    "aviation_accidents_cleaned.shape\n",
    "\n",
    "# 5855 columns with missing values droped"
   ]
  },
  {
   "cell_type": "markdown",
   "id": "f0a3bc14",
   "metadata": {},
   "source": [
    "Checking on duplicates in the new dataset"
   ]
  },
  {
   "cell_type": "code",
   "execution_count": 24,
   "id": "5bb2fafa",
   "metadata": {},
   "outputs": [
    {
     "data": {
      "text/plain": [
       "False    18111\n",
       "True         1\n",
       "Name: count, dtype: int64"
      ]
     },
     "execution_count": 24,
     "metadata": {},
     "output_type": "execute_result"
    }
   ],
   "source": [
    "aviation_accidents_cleaned.duplicated().value_counts()\n",
    "\n",
    "# only 1 duplicate found"
   ]
  },
  {
   "cell_type": "markdown",
   "id": "915e70fd",
   "metadata": {},
   "source": [
    "Eliminating the duplicate"
   ]
  },
  {
   "cell_type": "code",
   "execution_count": 25,
   "id": "ee92788e",
   "metadata": {},
   "outputs": [],
   "source": [
    "aviation_accidents_cleaned = aviation_accidents_cleaned.drop_duplicates()"
   ]
  },
  {
   "cell_type": "code",
   "execution_count": 26,
   "id": "10f285f5",
   "metadata": {},
   "outputs": [
    {
     "data": {
      "text/plain": [
       "False    18111\n",
       "Name: count, dtype: int64"
      ]
     },
     "execution_count": 26,
     "metadata": {},
     "output_type": "execute_result"
    }
   ],
   "source": [
    "aviation_accidents_cleaned.duplicated().value_counts()\n",
    "\n",
    "# duplicate eliminated. "
   ]
  },
  {
   "cell_type": "code",
   "execution_count": 27,
   "id": "44581347",
   "metadata": {},
   "outputs": [
    {
     "name": "stdout",
     "output_type": "stream",
     "text": [
      "<class 'pandas.core.frame.DataFrame'>\n",
      "Index: 18111 entries, 62 to 23966\n",
      "Data columns (total 9 columns):\n",
      " #   Column        Non-Null Count  Dtype         \n",
      "---  ------        --------------  -----         \n",
      " 0   date          18111 non-null  datetime64[ns]\n",
      " 1   type          18111 non-null  object        \n",
      " 2   registration  18111 non-null  object        \n",
      " 3   operator      18111 non-null  object        \n",
      " 4   fatalities    18111 non-null  Int64         \n",
      " 5   location      18111 non-null  object        \n",
      " 6   country       18111 non-null  object        \n",
      " 7   cat           18111 non-null  object        \n",
      " 8   year          18111 non-null  Int64         \n",
      "dtypes: Int64(2), datetime64[ns](1), object(6)\n",
      "memory usage: 1.4+ MB\n"
     ]
    }
   ],
   "source": [
    "aviation_accidents_cleaned.info()\n",
    "\n",
    "# the new dataset has no null values and no duplicates\n",
    "# columns properly converted to their right types"
   ]
  },
  {
   "cell_type": "markdown",
   "id": "bfa8958f",
   "metadata": {},
   "source": [
    "# Adding new column for decades"
   ]
  },
  {
   "cell_type": "code",
   "execution_count": 28,
   "id": "a401f44c",
   "metadata": {},
   "outputs": [],
   "source": [
    "aviation_accidents_cleaned[\"decade\"] = (aviation_accidents_cleaned[\"year\"] // 10) * 10\n",
    "\n",
    "# Converting to string with 's' suffix for readability\n",
    "aviation_accidents_cleaned[\"decade\"] = aviation_accidents_cleaned[\"decade\"].astype(\"Int64\").astype(str) + \"s\""
   ]
  },
  {
   "cell_type": "code",
   "execution_count": 29,
   "id": "a83dcdb8",
   "metadata": {},
   "outputs": [
    {
     "data": {
      "text/html": [
       "<div>\n",
       "<style scoped>\n",
       "    .dataframe tbody tr th:only-of-type {\n",
       "        vertical-align: middle;\n",
       "    }\n",
       "\n",
       "    .dataframe tbody tr th {\n",
       "        vertical-align: top;\n",
       "    }\n",
       "\n",
       "    .dataframe thead th {\n",
       "        text-align: right;\n",
       "    }\n",
       "</style>\n",
       "<table border=\"1\" class=\"dataframe\">\n",
       "  <thead>\n",
       "    <tr style=\"text-align: right;\">\n",
       "      <th></th>\n",
       "      <th>date</th>\n",
       "      <th>type</th>\n",
       "      <th>registration</th>\n",
       "      <th>operator</th>\n",
       "      <th>fatalities</th>\n",
       "      <th>location</th>\n",
       "      <th>country</th>\n",
       "      <th>cat</th>\n",
       "      <th>year</th>\n",
       "      <th>decade</th>\n",
       "    </tr>\n",
       "  </thead>\n",
       "  <tbody>\n",
       "    <tr>\n",
       "      <th>62</th>\n",
       "      <td>1919-08-11</td>\n",
       "      <td>Felixstowe Fury</td>\n",
       "      <td>N123</td>\n",
       "      <td>RAF</td>\n",
       "      <td>1</td>\n",
       "      <td>near Felixtowe RNAS</td>\n",
       "      <td>U.K.</td>\n",
       "      <td>A1</td>\n",
       "      <td>1919</td>\n",
       "      <td>1910s</td>\n",
       "    </tr>\n",
       "    <tr>\n",
       "      <th>63</th>\n",
       "      <td>1920-02-23</td>\n",
       "      <td>Handley Page O/7</td>\n",
       "      <td>G-EANV</td>\n",
       "      <td>Handley Page Transport</td>\n",
       "      <td>0</td>\n",
       "      <td>Acadia Siding, C...</td>\n",
       "      <td>South Africa</td>\n",
       "      <td>A1</td>\n",
       "      <td>1920</td>\n",
       "      <td>1920s</td>\n",
       "    </tr>\n",
       "    <tr>\n",
       "      <th>64</th>\n",
       "      <td>1920-02-25</td>\n",
       "      <td>Handley Page O/400</td>\n",
       "      <td>G-EAMC</td>\n",
       "      <td>Handley Page Transport</td>\n",
       "      <td>0</td>\n",
       "      <td>near El Shereik</td>\n",
       "      <td>Sudan</td>\n",
       "      <td>A1</td>\n",
       "      <td>1920</td>\n",
       "      <td>1920s</td>\n",
       "    </tr>\n",
       "    <tr>\n",
       "      <th>65</th>\n",
       "      <td>1920-06-30</td>\n",
       "      <td>Handley Page O/400</td>\n",
       "      <td>G-EAKE</td>\n",
       "      <td>Handley Page Transport</td>\n",
       "      <td>0</td>\n",
       "      <td>ÃstanÃ¥</td>\n",
       "      <td>Sweden</td>\n",
       "      <td>A1</td>\n",
       "      <td>1920</td>\n",
       "      <td>1920s</td>\n",
       "    </tr>\n",
       "    <tr>\n",
       "      <th>66</th>\n",
       "      <td>1920-12-14</td>\n",
       "      <td>Handley Page O/400</td>\n",
       "      <td>G-EAMA</td>\n",
       "      <td>Handley Page Transport</td>\n",
       "      <td>4</td>\n",
       "      <td>Golders Green</td>\n",
       "      <td>U.K.</td>\n",
       "      <td>A1</td>\n",
       "      <td>1920</td>\n",
       "      <td>1920s</td>\n",
       "    </tr>\n",
       "  </tbody>\n",
       "</table>\n",
       "</div>"
      ],
      "text/plain": [
       "         date                type registration                operator  \\\n",
       "62 1919-08-11     Felixstowe Fury         N123                     RAF   \n",
       "63 1920-02-23    Handley Page O/7       G-EANV  Handley Page Transport   \n",
       "64 1920-02-25  Handley Page O/400       G-EAMC  Handley Page Transport   \n",
       "65 1920-06-30  Handley Page O/400       G-EAKE  Handley Page Transport   \n",
       "66 1920-12-14  Handley Page O/400       G-EAMA  Handley Page Transport   \n",
       "\n",
       "    fatalities             location       country cat  year decade  \n",
       "62           1  near Felixtowe RNAS          U.K.  A1  1919  1910s  \n",
       "63           0  Acadia Siding, C...  South Africa  A1  1920  1920s  \n",
       "64           0      near El Shereik         Sudan  A1  1920  1920s  \n",
       "65           0             ÃstanÃ¥        Sweden  A1  1920  1920s  \n",
       "66           4        Golders Green          U.K.  A1  1920  1920s  "
      ]
     },
     "execution_count": 29,
     "metadata": {},
     "output_type": "execute_result"
    }
   ],
   "source": [
    "aviation_accidents_cleaned.head()"
   ]
  },
  {
   "cell_type": "code",
   "execution_count": 30,
   "id": "87f9fd72",
   "metadata": {},
   "outputs": [
    {
     "data": {
      "text/plain": [
       "Index(['date', 'type', 'registration', 'operator', 'fatalities', 'location',\n",
       "       'country', 'cat', 'year', 'decade'],\n",
       "      dtype='object')"
      ]
     },
     "execution_count": 30,
     "metadata": {},
     "output_type": "execute_result"
    }
   ],
   "source": [
    "aviation_accidents_cleaned.columns\n",
    "# new column added"
   ]
  },
  {
   "cell_type": "markdown",
   "id": "fbc680bf",
   "metadata": {},
   "source": [
    "# Exploratory Analysis \n",
    "\n",
    "The analysis is structured around specific objectives.  \n",
    "Each objective focuses on a distinct perspective of aviation accidents, supported by visualizations and interpretations.\n"
   ]
  },
  {
   "cell_type": "markdown",
   "id": "f1526dc6",
   "metadata": {},
   "source": [
    "## Objective 1: Accident frequency by aircraft make/model\n",
    "\n",
    "To explore the frequency of accidents across aircraft makes and identify which manufacturers appear most often in the dataset.\n"
   ]
  },
  {
   "cell_type": "code",
   "execution_count": 31,
   "id": "5bc88672",
   "metadata": {},
   "outputs": [],
   "source": [
    "# importing visualization libraries\n",
    "import matplotlib.pyplot as plt\n",
    "import seaborn as sns"
   ]
  },
  {
   "cell_type": "code",
   "execution_count": 32,
   "id": "a851c4bb",
   "metadata": {},
   "outputs": [
    {
     "data": {
      "image/png": "[encoded data removed]",
      "text/plain": [
       "<Figure size 800x400 with 1 Axes>"
      ]
     },
     "metadata": {},
     "output_type": "display_data"
    }
   ],
   "source": [
    "\n",
    "top_makes = aviation_accidents_cleaned['type'].astype(str).str.split().str[0].value_counts().head(10)\n",
    "\n",
    "plt.figure(figsize=(8,4))\n",
    "sns.barplot(x=top_makes.index, y=top_makes.values, color=\"steelblue\")\n",
    "plt.title(\"Top 10 Aircraft Makes by Accident Count\", fontsize=16, color='darkred')\n",
    "plt.xlabel(\"Aircraft Make\")\n",
    "plt.ylabel(\"Accident Count\")\n",
    "plt.xticks(rotation=45)\n",
    "plt.show()"
   ]
  },
  {
   "cell_type": "markdown",
   "id": "eba90a74",
   "metadata": {},
   "source": [
    "The bar chart highlights the aircraft makes with the highest number of accidents recorded.  \n",
    "This shows where most incidents are concentrated, although it does not account for exposure (e.g., number of flights per make).  \n",
    "Higher counts may reflect popularity in use rather than inherent risk."
   ]
  },
  {
   "cell_type": "markdown",
   "id": "9e43fc0f",
   "metadata": {},
   "source": [
    "# Bottom 10 aircraft makes by accident count"
   ]
  },
  {
   "cell_type": "code",
   "execution_count": 46,
   "id": "8def7bbe",
   "metadata": {},
   "outputs": [
    {
     "data": {
      "image/png": "[encoded data removed]",
      "text/plain": [
       "<Figure size 800x400 with 1 Axes>"
      ]
     },
     "metadata": {},
     "output_type": "display_data"
    }
   ],
   "source": [
    "\n",
    "bottom_makes = aviation_accidents_cleaned['type'].astype(str).str.split().str[0].value_counts().tail(10)\n",
    "\n",
    "plt.figure(figsize=(8,4))\n",
    "sns.barplot(x=bottom_makes.index, y=bottom_makes.values, color=\"orange\")\n",
    "plt.title(\"Bottom 10 Aircraft Makes by Accident Count\", fontsize=16, color='steelblue')\n",
    "plt.xlabel(\"Aircraft Make\")\n",
    "plt.ylabel(\"Accident Count\")\n",
    "plt.xticks(rotation=45)\n",
    "plt.show()"
   ]
  },
  {
   "cell_type": "markdown",
   "id": "bf16a19a",
   "metadata": {},
   "source": [
    "This chart shows the aircraft makes with the lowest recorded accident counts in the dataset.  \n",
    "These might suggest that they are much safer to use or might not be commonly used models"
   ]
  },
  {
   "cell_type": "markdown",
   "id": "4b25051a",
   "metadata": {},
   "source": [
    "# Objective 2: Temporal patterns\n",
    "\n",
    "To examine how the number of accidents has changed over time, highlighting trends in aviation safety.\n"
   ]
  },
  {
   "cell_type": "code",
   "execution_count": 34,
   "id": "b64ab2d1",
   "metadata": {},
   "outputs": [
    {
     "data": {
      "image/png": "[encoded data removed]",
      "text/plain": [
       "<Figure size 900x500 with 1 Axes>"
      ]
     },
     "metadata": {},
     "output_type": "display_data"
    }
   ],
   "source": [
    "year_counts = aviation_accidents_cleaned['year'].value_counts().sort_index()\n",
    "\n",
    "plt.figure(figsize=(9,5))  # size of the plot\n",
    "sns.lineplot(x=year_counts.index, y=year_counts.values, marker='o', markersize=8, color='purple')\n",
    "plt.title(\"Accident Counts by Year\")\n",
    "plt.xlabel(\"Year\")\n",
    "plt.ylabel(\"Accident Count\")\n",
    "plt.tight_layout()\n",
    "plt.show()\n"
   ]
  },
  {
   "cell_type": "markdown",
   "id": "51d00f4d",
   "metadata": {},
   "source": [
    "This time series shows how recorded incidents change over time. \n",
    "\n",
    "\n",
    "Decreasing trends suggest improving safety or changes in reporting.\n",
    "\n",
    "From the lineplot :\n",
    "        \n",
    "-1920-1940 has very low number of accident occurences, suggesting strong safety or quality artifacts.\n",
    "\n",
    "-Early 1940's show very high number of accidents counts\n",
    "\n",
    "-1950's-2020 show a drop in the number of occurences, they have an average number of occurencs.\n",
    "\n",
    "-2020 their is a notable decrease of accidents\n",
    "\n",
    "This implies that safety measures have been improved overtime, and more quality articfacts brought into the field\n"
   ]
  },
  {
   "cell_type": "markdown",
   "id": "a213bffb",
   "metadata": {},
   "source": [
    "# Distribution of accidents per decades"
   ]
  },
  {
   "cell_type": "code",
   "execution_count": 35,
   "id": "c690d213",
   "metadata": {},
   "outputs": [
    {
     "data": {
      "image/png": "[encoded data removed]",
      "text/plain": [
       "<Figure size 900x500 with 1 Axes>"
      ]
     },
     "metadata": {},
     "output_type": "display_data"
    }
   ],
   "source": [
    "plt.figure(figsize=(9,5))\n",
    "sns.countplot(data=aviation_accidents_cleaned, x=\"decade\", order=sorted(aviation_accidents_cleaned[\"decade\"].unique()), hue='decade', palette='Set2')\n",
    "plt.title(\"Accidents per Decade\", fontsize=16, color='red')\n",
    "plt.xlabel(\"Decade\", color='blue')\n",
    "plt.ylabel(\"Accident Count\", color='blue')\n",
    "plt.tight_layout()\n",
    "plt.show()\n"
   ]
  },
  {
   "cell_type": "markdown",
   "id": "5150d4d5",
   "metadata": {},
   "source": [
    "This plot summarizes accident counts by decade\n",
    "\n",
    "1910s-1930 have very few occurences, might be due to low number of artifacts been in operation\n",
    "\n",
    "The trend skyrockets in 1940s. They have the most accident occurences among all decades\n",
    "\n",
    "Post 1940s their seems to be almost a uniform trend of occurences -they are fewer\n",
    "\n",
    "2020s have few occurences despite having more artifacts in modern world. Suggests key improvements and supports the narrative of steady safety improvements in aviation. This is a very positive trajectory.\n"
   ]
  },
  {
   "cell_type": "markdown",
   "id": "05ec0ba7",
   "metadata": {},
   "source": [
    "# Histogram of accidents per decade"
   ]
  },
  {
   "cell_type": "code",
   "execution_count": 36,
   "id": "e615cde9",
   "metadata": {},
   "outputs": [
    {
     "data": {
      "image/png": "[encoded data removed]",
      "text/plain": [
       "<Figure size 640x480 with 1 Axes>"
      ]
     },
     "metadata": {},
     "output_type": "display_data"
    }
   ],
   "source": [
    "sns.histplot(\n",
    "    aviation_accidents_cleaned['year'],\n",
    "    bins=(10),  \n",
    "    color=\"darkorange\",\n",
    "    edgecolor=\"black\"\n",
    ")\n",
    "plt.title(\"Histogram of Accidents per Decade\")\n",
    "plt.xlabel(\"Decade\")\n",
    "plt.ylabel(\"Accident Count\")\n",
    "plt.tight_layout()\n",
    "plt.show()\n"
   ]
  },
  {
   "cell_type": "markdown",
   "id": "1360f4ee",
   "metadata": {},
   "source": [
    "This histogram shows the number of recorded accidents grouped by decade.  \n",
    "The counts rise steeply during the mid-20th century, peak in certain decades, and decline more recently, reflecting improvements in aviation safety and technology.  \n",
    "UIt shows smoothed view highlights long-term patterns clearly.\n"
   ]
  },
  {
   "cell_type": "markdown",
   "id": "aef38fad",
   "metadata": {},
   "source": [
    "# Objective 3 : Geographic distribution "
   ]
  },
  {
   "cell_type": "code",
   "execution_count": 37,
   "id": "dc6431fc",
   "metadata": {},
   "outputs": [
    {
     "data": {
      "image/png": "[encoded data removed]",
      "text/plain": [
       "<Figure size 900x500 with 1 Axes>"
      ]
     },
     "metadata": {},
     "output_type": "display_data"
    }
   ],
   "source": [
    "\n",
    "top_countries = aviation_accidents_cleaned['country'].value_counts().nlargest(10)\n",
    "\n",
    "plt.figure(figsize=(9,5))\n",
    "sns.barplot(x=top_countries.index, y=top_countries.values, palette=\"Set3\",  hue=top_countries.index,  legend=False)\n",
    "plt.title(\"Top 10 Countries by Accident Count\")\n",
    "plt.xlabel(\"Country\")\n",
    "plt.ylabel(\"Accident Count\")\n",
    "plt.xticks(rotation=45)\n",
    "plt.show()\n",
    "\n",
    "# used the palette parameter for cooler colors and hue to differentiate the bars"
   ]
  },
  {
   "cell_type": "markdown",
   "id": "0964d32b",
   "metadata": {},
   "source": [
    "This chart highlights countries with the most recorded incidents. \n",
    "\n",
    "USA has the highest number of occurences with over 3500 counts which is significantly high than the rest\n",
    "\n",
    "The U.S. has one of the largest aviation industries in the world, with thousands of flights operating daily, increasing the likelihood of incidents being recorded."
   ]
  },
  {
   "cell_type": "markdown",
   "id": "2c0f55e2",
   "metadata": {},
   "source": [
    "# Objective 4 : Top operators by accident count"
   ]
  },
  {
   "cell_type": "code",
   "execution_count": 38,
   "id": "443c95c9",
   "metadata": {},
   "outputs": [
    {
     "data": {
      "image/png": "[encoded data removed]",
      "text/plain": [
       "<Figure size 640x480 with 1 Axes>"
      ]
     },
     "metadata": {},
     "output_type": "display_data"
    }
   ],
   "source": [
    "top_ops = aviation_accidents_cleaned['operator'].value_counts().nlargest(10)\n",
    "\n",
    "\n",
    "sns.barplot(x=top_ops.index, y=top_ops.values, color=\"orange\")\n",
    "plt.title(\"Top 10 Operators by Accident Count\")\n",
    "plt.xlabel(\"Operator\")\n",
    "plt.ylabel(\"Accident Count\")\n",
    "plt.xticks(rotation=45)\n",
    "plt.tight_layout()\n",
    "plt.show()\n"
   ]
  },
  {
   "cell_type": "markdown",
   "id": "85376234",
   "metadata": {},
   "source": [
    "This shows which operator names appear most often in the dataset with USAF been the most frequent followed by USAAF"
   ]
  },
  {
   "cell_type": "markdown",
   "id": "742968a8",
   "metadata": {},
   "source": [
    "# Objective 5 : Correlation matrix \n",
    "\n",
    "For numeric fields"
   ]
  },
  {
   "cell_type": "code",
   "execution_count": 39,
   "id": "233af608",
   "metadata": {},
   "outputs": [
    {
     "data": {
      "text/html": [
       "<div>\n",
       "<style scoped>\n",
       "    .dataframe tbody tr th:only-of-type {\n",
       "        vertical-align: middle;\n",
       "    }\n",
       "\n",
       "    .dataframe tbody tr th {\n",
       "        vertical-align: top;\n",
       "    }\n",
       "\n",
       "    .dataframe thead th {\n",
       "        text-align: right;\n",
       "    }\n",
       "</style>\n",
       "<table border=\"1\" class=\"dataframe\">\n",
       "  <thead>\n",
       "    <tr style=\"text-align: right;\">\n",
       "      <th></th>\n",
       "      <th>fatalities</th>\n",
       "      <th>year</th>\n",
       "    </tr>\n",
       "  </thead>\n",
       "  <tbody>\n",
       "    <tr>\n",
       "      <th>fatalities</th>\n",
       "      <td>1.000000</td>\n",
       "      <td>-0.044701</td>\n",
       "    </tr>\n",
       "    <tr>\n",
       "      <th>year</th>\n",
       "      <td>-0.044701</td>\n",
       "      <td>1.000000</td>\n",
       "    </tr>\n",
       "  </tbody>\n",
       "</table>\n",
       "</div>"
      ],
      "text/plain": [
       "            fatalities      year\n",
       "fatalities    1.000000 -0.044701\n",
       "year         -0.044701  1.000000"
      ]
     },
     "execution_count": 39,
     "metadata": {},
     "output_type": "execute_result"
    }
   ],
   "source": [
    "correlation = aviation_accidents_cleaned.corr(numeric_only=True)\n",
    "correlation\n",
    "\n",
    "# getting the correlation matrix for numeric fields only without plotting"
   ]
  },
  {
   "cell_type": "code",
   "execution_count": 49,
   "id": "3319544c",
   "metadata": {},
   "outputs": [
    {
     "data": {
      "image/png": "[encoded data removed]",
      "text/plain": [
       "<Figure size 600x400 with 2 Axes>"
      ]
     },
     "metadata": {},
     "output_type": "display_data"
    }
   ],
   "source": [
    "plt.figure(figsize=(6, 4))\n",
    "sns.heatmap(correlation, annot=True, cmap=\"coolwarm\", linewidths=0.5)\n",
    "plt.title(\"Correlation Matrix\", fontsize=14)\n",
    "plt.show()\n",
    "\n",
    "# annot to show correlation values\n",
    "# cmap - color scheme"
   ]
  },
  {
   "cell_type": "markdown",
   "id": "09a7c7a1",
   "metadata": {},
   "source": [
    "**Interpretation of the correlation matrix** - **Fatalities <> Year:**  \n",
    "  The correlation between the number of fatalities and the year of occurrence is very close to zero (−0.045). This indicates that there is essentially no linear relationship between when an accident occurred and how many fatalities it caused.  \n",
    "\n",
    "The near-zero correlation suggests that accident severity, measured in fatalities, does not follow a simple upward or downward trend over time. While the number of accidents has changed across decades, the fatality counts in individual accidents remain largely independent of the calendar year.\n"
   ]
  },
  {
   "cell_type": "markdown",
   "id": "d388cbff",
   "metadata": {},
   "source": [
    "**Saving Copy of cleaned data for further visualization**"
   ]
  },
  {
   "cell_type": "code",
   "execution_count": 50,
   "id": "90f1ff42",
   "metadata": {},
   "outputs": [],
   "source": [
    "aviation_accidents_cleaned.to_csv(\"aviation_accidents_cleaned.csv\", index=False)"
   ]
  },
  {
   "cell_type": "markdown",
   "id": "89479f81",
   "metadata": {},
   "source": [
    "# Recommendations \n",
    "\n",
    "Based on the exploratory analysis of 18,111 aviation accident records, the following recommendations are made to support decision-making on aircraft selection and operational strategy:\n",
    "\n",
    "1. **Aircraft Selection : Prioritize makes with lower accident counts.**  \n",
    "   This is well illustrated in Objective 1. It shows that some aircraft models have consistently lower proportions of accidents. These makes should be prioritized when assessing fleet acquisition options, as they combine operational presence with relatively safer outcomes.\n",
    "\n",
    "2. **Operational Strategy : Deprioritize high-frequency accident makes and operators.**  \n",
    "   Accident frequency analysis (Objectives 1 and 4) identified specific makes and operators with disproportionately high counts of incidents. While frequency is partly explained by fleet size and utilization, consistently high counts across decades suggest elevated operational risks. These makes and operators should be approached with caution unless offset by modern safety records.\n",
    "\n",
    "3. **Geographic Focus : Exercise caution in high-incident countries.**  \n",
    "   Geographic distribution analysis (Objective 3) highlighted a concentration of accidents in certain countries. Avoid entering markets where operational conditions appear consistently riskier.\n",
    "\n",
    "4. **Temporal Trends : Leverage improving safety standards in recent years.**  \n",
    "   Temporal analysis (Objective 2) and the correlation matrix showed that more recent accidents are less likely to be fatal. This improvement reflects stronger global safety standards and more survivable aircraft designs. Decisions should focus on newer models, especially those with a track record of safer outcomes in the last two decades.\n",
    "\n"
   ]
  }
 ],
 "metadata": {
  "kernelspec": {
   "display_name": "myenv",
   "language": "python",
   "name": "python3"
  },
  "language_info": {
   "codemirror_mode": {
    "name": "ipython",
    "version": 3
   },
   "file_extension": ".py",
   "mimetype": "text/x-python",
   "name": "python",
   "nbconvert_exporter": "python",
   "pygments_lexer": "ipython3",
   "version": "3.13.7"
  }
 },
 "nbformat": 4,
 "nbformat_minor": 5
}
